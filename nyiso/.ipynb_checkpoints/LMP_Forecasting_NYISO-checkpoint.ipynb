{
 "cells": [
  {
   "cell_type": "markdown",
   "id": "49100784",
   "metadata": {},
   "source": [
    "# Install Packages"
   ]
  },
  {
   "cell_type": "code",
   "execution_count": 1,
   "id": "808a1936",
   "metadata": {},
   "outputs": [],
   "source": [
    "# If there are required packages\n",
    "# !pip install tensorflow"
   ]
  },
  {
   "cell_type": "markdown",
   "id": "fc900451",
   "metadata": {},
   "source": [
    "# Import Libararies"
   ]
  },
  {
   "cell_type": "code",
   "execution_count": 1,
   "id": "51cb8df1",
   "metadata": {},
   "outputs": [],
   "source": [
    "import numpy as np\n",
    "from numpy import mean , concatenate, array , hstack\n",
    "\n",
    "from math import sqrt\n",
    "\n",
    "import matplotlib.pyplot as plt\n",
    "\n",
    "import pandas as pd\n",
    "from pandas import DataFrame , concat, read_csv\n",
    "import warnings\n",
    "warnings.filterwarnings(\"ignore\")\n",
    "\n",
    "from datetime import datetime\n",
    "\n",
    "import os\n",
    "os.environ['TF_CPP_MIN_LOG_LEVEL'] = '2'\n",
    "import tensorflow as tf\n",
    "from tensorflow import keras\n",
    "from tensorflow.keras.layers import Conv2D, BatchNormalization, Activation, MaxPooling2D, Lambda, LSTM\n",
    "from tensorflow.keras.layers import concatenate, Input, GlobalAveragePooling2D, Flatten, Dense, Dropout\n",
    "from tensorflow.keras.models import Model, load_model, Sequential\n",
    "from tensorflow.keras.optimizers import Adam\n",
    "from tensorflow.keras.callbacks import *\n",
    "\n",
    "from sklearn.metrics import mean_squared_error, mean_absolute_error, confusion_matrix, classification_report, ConfusionMatrixDisplay\n",
    "from sklearn.preprocessing import LabelEncoder, MinMaxScaler\n",
    "\n",
    "import statsmodels.api as sm"
   ]
  },
  {
   "cell_type": "markdown",
   "id": "c1365a99",
   "metadata": {},
   "source": [
    "# Read and Preprocess Data"
   ]
  },
  {
   "cell_type": "code",
   "execution_count": null,
   "id": "dab32bd6",
   "metadata": {},
   "outputs": [],
   "source": [
    "##### Skip the next two cells ######\n",
    "#### only processing data once ####"
   ]
  },
  {
   "cell_type": "code",
   "execution_count": null,
   "id": "08194550",
   "metadata": {},
   "outputs": [],
   "source": [
    "daterange = pd.date_range('01/02/2017', '31/12/2021')\n",
    "da_lmp = pd.read_csv(\"nyiso/da_lmp/20170101damlbmp_zone.csv\")\n",
    "rt_lmp = pd.read_csv(\"nyiso/rt_lmp/20170101realtime_zone.csv\")\n",
    "load_frcstd = pd.read_csv(\"load_forecast/20170101isolf.csv\").iloc[:24,:]\n",
    "weather_frcstd = pd.read_csv(\"nyiso/weather_forecast/20170101lfweather.csv\")\n",
    "for single_date in daterange:\n",
    "    da_lmp = pd.concat([da_lmp, pd.read_csv(\"nyiso/da_lmp/\"+single_date.strftime(\"%Y%m%d\")+\"damlbmp_zone.csv\")])\n",
    "    rt_lmp = pd.concat([rt_lmp, pd.read_csv(\"nyiso/rt_lmp/\"+single_date.strftime(\"%Y%m%d\")+\"realtime_zone.csv\")])\n",
    "    load_frcstd = pd.concat([load_frcstd, pd.read_csv(\"load_forecast/\"+single_date.strftime(\"%Y%m%d\")+\"isolf.csv\").iloc[:24,:]])\n",
    "    #weather_frcstd = pd.concat([weather_frcstd, pd.read_csv(\"nyiso/weather_forecast/\"+single_date.strftime(\"%Y%m%d\")+\"lfweather.csv\")])\n",
    "    # weather 20170910 is missing\n",
    "da_lmp.to_csv('da_lmp_nyiso.csv')\n",
    "load_frcstd.to_csv('load_forcast_nyiso.csv')\n",
    "rt_lmp.to_csv('rt_lmp_nyiso.csv')"
   ]
  },
  {
   "cell_type": "code",
   "execution_count": null,
   "id": "d754155e",
   "metadata": {},
   "outputs": [],
   "source": [
    "da_lmp.set_index('Time Stamp', inplace=True)\n",
    "da_lmp.index = pd.to_datetime(da_lmp.index)\n",
    "\n",
    "rt_lmp.set_index('Time Stamp', inplace=True)\n",
    "rt_lmp.index = pd.to_datetime(rt_lmp.index)\n",
    "rt_lmp = rt_lmp.groupby('Name').resample('1H').mean().reset_index().sort_values(['Time Stamp', 'Name']).set_index('Time Stamp')\n",
    "rt_lmp = rt_lmp.drop('2022-01-01 00:00:00')\n",
    "\n",
    "rt_lmp = rt_lmp.reset_index().sort_values(['Time Stamp', 'Name']).set_index('Time Stamp')\n",
    "\n",
    "da_lmp.rename(columns={\"Name\": \"zone\", \"PTID\": \"ID\", \"LBMP ($/MWHr)\": \"da_lmp\"},inplace=True)\n",
    "rt_lmp.rename(columns={\"LBMP ($/MWHr)\": \"rt_lmp\"},inplace=True)\n",
    "\n",
    "lmp = pd.concat([da_lmp.reset_index(),rt_lmp.reset_index(drop=True)],axis=1).set_index('Time Stamp')\n",
    "lmp.drop(lmp.columns[[3,4,5,6,8,9]],axis=1,inplace=True)\n",
    "lmp['lmp_spread'] = lmp['da_lmp'] - lmp['rt_lmp']\n",
    "lmp.to_csv('lmp_spread.csv')"
   ]
  },
  {
   "cell_type": "code",
   "execution_count": null,
   "id": "72f9fbfc",
   "metadata": {},
   "outputs": [],
   "source": [
    "lmp = pd.read_csv(\"lmp_spread.csv\")\n",
    "lmp.set_index('Time Stamp', inplace=True)\n",
    "lmp.index = pd.to_datetime(lmp.index)"
   ]
  },
  {
   "cell_type": "code",
   "execution_count": null,
   "id": "e81173d1",
   "metadata": {},
   "outputs": [],
   "source": [
    "load_frcstd = pd.read_csv(\"load_forcast_nyiso.csv\")\n",
    "load_frcstd.set_index('Time Stamp', inplace=True)\n",
    "load_frcstd.index = pd.to_datetime(load_frcstd.index)\n",
    "load_frcstd.drop(load_frcstd.columns[[0,-1]],axis=1,inplace=True)\n",
    "load_frcstd.columns = map(str.upper, load_frcstd.columns)"
   ]
  },
  {
   "cell_type": "code",
   "execution_count": null,
   "id": "0ad0ad3c",
   "metadata": {},
   "outputs": [],
   "source": [
    "lmp = lmp[lmp.zone.str.contains('|'.join(load_frcstd.columns))]"
   ]
  },
  {
   "cell_type": "code",
   "execution_count": null,
   "id": "9b56764a",
   "metadata": {},
   "outputs": [],
   "source": [
    "load_frcstd = pd.DataFrame(load_frcstd.stack().reset_index())\n",
    "load_frcstd.set_index('Time Stamp', inplace=True)\n",
    "load_frcstd.index = pd.to_datetime(load_frcstd.index)"
   ]
  },
  {
   "cell_type": "code",
   "execution_count": null,
   "id": "8db5e3b7",
   "metadata": {},
   "outputs": [],
   "source": [
    "nyiso = pd.concat([lmp.reset_index(), load_frcstd.reset_index(drop=True)], axis=1)\n",
    "nyiso.drop(nyiso.columns[[2,6]],axis=1,inplace=True)\n",
    "nyiso.set_index('Time Stamp', inplace=True, drop=True)\n",
    "nyiso.index = pd.to_datetime(nyiso.index)\n",
    "nyiso.rename(columns={0: \"load_frcstd\"},inplace=True)\n"
   ]
  },
  {
   "cell_type": "code",
   "execution_count": null,
   "id": "5d000ea7",
   "metadata": {},
   "outputs": [],
   "source": [
    "#nyiso.to_csv('full_nyiso.csv')"
   ]
  },
  {
   "cell_type": "code",
   "execution_count": null,
   "id": "722a67fd",
   "metadata": {},
   "outputs": [],
   "source": [
    "########################## End of Proceessing ##########################"
   ]
  },
  {
   "cell_type": "code",
   "execution_count": 2,
   "id": "14ed5289",
   "metadata": {},
   "outputs": [],
   "source": [
    "nyiso = pd.read_csv('full_nyiso.csv', index_col=0)\n",
    "nyiso.index = pd.to_datetime(nyiso.index)\n",
    "nyiso = nyiso.fillna(0)"
   ]
  },
  {
   "cell_type": "code",
   "execution_count": 3,
   "id": "6e41d70b",
   "metadata": {},
   "outputs": [],
   "source": [
    "nyiso_zone_dict = {}\n",
    "for idx, zone in enumerate(nyiso.zone.unique()):  \n",
    "    nyiso_zone_dict[zone] = nyiso[nyiso.zone == nyiso.zone.unique()[idx]].iloc[:,1:]\n",
    "    first_column = nyiso_zone_dict[zone].pop('lmp_spread')\n",
    "    nyiso_zone_dict[zone].insert(0, 'lmp_spread', first_column)\n",
    "    nyiso_zone_dict[zone]['Time'] = nyiso_zone_dict[zone].index.hour\n",
    "    one_hot = pd.get_dummies(nyiso_zone_dict[zone]['Time'])\n",
    "    nyiso_zone_dict[zone] = nyiso_zone_dict[zone].join(one_hot).drop(['Time'],axis=1)\n",
    "    nyiso_zone_dict[zone].reset_index(inplace=True)\n",
    "    nyiso_zone_dict[zone].drop(nyiso_zone_dict[zone].index[[7392, 7394, 16130, 16132, 24868,\n",
    "                                                            24870, 33606, 33608, 42512, 42514]], inplace=True)\n",
    "    nyiso_zone_dict[zone].set_index('Time Stamp', inplace=True, drop=True)\n",
    "    nyiso_zone_dict[zone].index = pd.to_datetime(nyiso_zone_dict[zone].index)\n",
    "\n"
   ]
  },
  {
   "cell_type": "markdown",
   "id": "386be61a",
   "metadata": {
    "tags": []
   },
   "source": [
    "# LSTM model to forecasting 24 hours ahead\n",
    "\n",
    "Train each zone alone by running the next cells for each zone, and predict it the last two years (20,21)"
   ]
  },
  {
   "cell_type": "code",
   "execution_count": 4,
   "id": "f49aff8e",
   "metadata": {},
   "outputs": [],
   "source": [
    "#nyiso_zone_dict.keys()"
   ]
  },
  {
   "cell_type": "code",
   "execution_count": 5,
   "id": "123bd5ac",
   "metadata": {},
   "outputs": [],
   "source": [
    "# We have 11 zones\n",
    "# ['CAPITL', 'CENTRL', 'DUNWOD', 'GENESE', 'HUD VL', 'LONGIL', 'MHK VL', 'MILLWD',\n",
    "#  'N.Y.C.', 'NORTH', 'WEST']\n",
    "zone = 'CAPITL'"
   ]
  },
  {
   "cell_type": "code",
   "execution_count": 6,
   "id": "288c173c",
   "metadata": {},
   "outputs": [],
   "source": [
    "# Split dataset: 2017 (8760) year for training, 2018-2019 (17520-26280) for validation ,\n",
    "# and 2020-2021 (35064) for testing\n",
    "# normalization\n",
    "scaler = MinMaxScaler(feature_range=(0, 1))\n",
    "pjm_train_scaled = scaler.fit_transform(nyiso_zone_dict[zone].iloc[:8760,:])\n",
    "pjm_val_scaled = scaler.fit_transform(nyiso_zone_dict[zone].iloc[8760:17520,:])\n",
    "pjm_test_scaled = scaler.fit_transform(nyiso_zone_dict[zone].iloc[17496:,:])"
   ]
  },
  {
   "cell_type": "code",
   "execution_count": 28,
   "id": "43596ee8",
   "metadata": {},
   "outputs": [
    {
     "name": "stdout",
     "output_type": "stream",
     "text": [
      "train_X.shape (8713, 24, 25)\n",
      "train_y.shape (8713, 24)\n",
      "val_X.shape (8713, 24, 25)\n",
      "val_y.shape (8713, 24)\n"
     ]
    }
   ],
   "source": [
    "# split a multivariate sequence into samples\n",
    "def split_sequences(sequences, n_steps_in, n_steps_out):\n",
    "    X, y = list(), list()\n",
    "    for i in range(len(sequences)):\n",
    "        # find the end of this pattern\n",
    "        end_ix = i + n_steps_in\n",
    "        out_end_ix = end_ix + n_steps_out\n",
    "        # check if we are beyond the dataset\n",
    "        if out_end_ix > len(sequences):\n",
    "            break\n",
    "        # gather input and output parts of the pattern\n",
    "        seq_x, seq_y = sequences[i:end_ix, 3:], sequences[end_ix:out_end_ix, 0]\n",
    "        X.append(seq_x)\n",
    "        y.append(seq_y)\n",
    "    return array(X), array(y)\n",
    "# choose a number of time steps #change this accordingly\n",
    "n_steps_in, n_steps_out = 24 , 24\n",
    "\n",
    "# covert into input/output\n",
    "train_X, train_y = split_sequences(pjm_train_scaled, n_steps_in, n_steps_out)\n",
    "val_X, val_y = split_sequences(pjm_val_scaled, n_steps_in, n_steps_out)\n",
    "\n",
    "print (\"train_X.shape\" , train_X.shape) \n",
    "print (\"train_y.shape\" , train_y.shape)\n",
    "print (\"val_X.shape\" , val_X.shape) \n",
    "print (\"val_y.shape\" , val_y.shape)"
   ]
  },
  {
   "cell_type": "code",
   "execution_count": 36,
   "id": "c182f517",
   "metadata": {},
   "outputs": [],
   "source": [
    "n_features = 25\n",
    "batch_size = 2048\n",
    "\n",
    "#optimizer learning rate\n",
    "opt = tf.keras.optimizers.Adam(learning_rate=0.001)\n",
    "# define model\n",
    "model = Sequential()\n",
    "model.add(LSTM(64, activation='tanh', return_sequences=True, input_shape=(n_steps_in, n_features)))\n",
    "model.add(LSTM(128, activation='tanh'))\n",
    "model.add(Dropout(0.2))\n",
    "model.add(Dense(128, activation='tanh'))\n",
    "model.add(Dense(64, activation='tanh')) \n",
    "model.add(Dense(32, activation='tanh'))\n",
    "model.add(Dropout(0.2))\n",
    "model.add(Dense(n_steps_out, activation='sigmoid'))\n",
    "# model.add(Activation('linear'))\n",
    "model.compile(loss='mse' , optimizer=opt , metrics=['mse'])"
   ]
  },
  {
   "cell_type": "code",
   "execution_count": 37,
   "id": "349874f7",
   "metadata": {
    "scrolled": true
   },
   "outputs": [
    {
     "name": "stdout",
     "output_type": "stream",
     "text": [
      "Epoch 1/20\n",
      "4/4 [==============================] - 6s 1s/step - loss: 0.1293 - mse: 0.1293 - val_loss: 0.0052 - val_mse: 0.0052\n",
      "Epoch 2/20\n",
      "4/4 [==============================] - 3s 970ms/step - loss: 0.0917 - mse: 0.0917 - val_loss: 0.0194 - val_mse: 0.0194\n",
      "Epoch 3/20\n",
      "4/4 [==============================] - 3s 1s/step - loss: 0.0597 - mse: 0.0597 - val_loss: 0.0269 - val_mse: 0.0269\n",
      "Epoch 4/20\n",
      "4/4 [==============================] - 3s 988ms/step - loss: 0.0473 - mse: 0.0473 - val_loss: 0.0266 - val_mse: 0.0266\n",
      "Epoch 5/20\n",
      "4/4 [==============================] - 3s 997ms/step - loss: 0.0385 - mse: 0.0385 - val_loss: 0.0267 - val_mse: 0.0267\n",
      "Epoch 6/20\n",
      "4/4 [==============================] - 3s 1s/step - loss: 0.0315 - mse: 0.0315 - val_loss: 0.0308 - val_mse: 0.0308\n",
      "Epoch 7/20\n",
      "4/4 [==============================] - 3s 969ms/step - loss: 0.0255 - mse: 0.0255 - val_loss: 0.0370 - val_mse: 0.0370\n",
      "Epoch 8/20\n",
      "4/4 [==============================] - 3s 976ms/step - loss: 0.0209 - mse: 0.0209 - val_loss: 0.0417 - val_mse: 0.0417\n",
      "Epoch 9/20\n",
      "4/4 [==============================] - 3s 971ms/step - loss: 0.0170 - mse: 0.0170 - val_loss: 0.0460 - val_mse: 0.0460\n",
      "Epoch 10/20\n",
      "4/4 [==============================] - 3s 966ms/step - loss: 0.0139 - mse: 0.0139 - val_loss: 0.0507 - val_mse: 0.0507\n",
      "Epoch 11/20\n",
      "4/4 [==============================] - 3s 969ms/step - loss: 0.0116 - mse: 0.0116 - val_loss: 0.0550 - val_mse: 0.0550\n",
      "Epoch 12/20\n",
      "4/4 [==============================] - 3s 965ms/step - loss: 0.0097 - mse: 0.0097 - val_loss: 0.0584 - val_mse: 0.0584\n",
      "Epoch 13/20\n",
      "4/4 [==============================] - 3s 968ms/step - loss: 0.0083 - mse: 0.0083 - val_loss: 0.0612 - val_mse: 0.0612\n",
      "Epoch 14/20\n",
      "4/4 [==============================] - 3s 977ms/step - loss: 0.0073 - mse: 0.0073 - val_loss: 0.0642 - val_mse: 0.0642\n",
      "Epoch 15/20\n",
      "4/4 [==============================] - 3s 1s/step - loss: 0.0064 - mse: 0.0064 - val_loss: 0.0671 - val_mse: 0.0671\n",
      "Epoch 16/20\n",
      "4/4 [==============================] - 4s 1s/step - loss: 0.0057 - mse: 0.0057 - val_loss: 0.0693 - val_mse: 0.0693\n",
      "Epoch 17/20\n",
      "4/4 [==============================] - 4s 1s/step - loss: 0.0052 - mse: 0.0052 - val_loss: 0.0710 - val_mse: 0.0710\n",
      "Epoch 18/20\n",
      "4/4 [==============================] - 4s 1s/step - loss: 0.0048 - mse: 0.0048 - val_loss: 0.0725 - val_mse: 0.0725\n",
      "Epoch 19/20\n",
      "4/4 [==============================] - 4s 1s/step - loss: 0.0045 - mse: 0.0045 - val_loss: 0.0738 - val_mse: 0.0738\n",
      "Epoch 20/20\n",
      "4/4 [==============================] - 4s 1s/step - loss: 0.0043 - mse: 0.0043 - val_loss: 0.0751 - val_mse: 0.0751\n"
     ]
    }
   ],
   "source": [
    "history = model.fit(train_X , train_y , epochs=20 , steps_per_epoch=train_X.shape[0]//batch_size , verbose=1,\n",
    "                    validation_data=(val_X, val_y) ,shuffle=False)"
   ]
  },
  {
   "cell_type": "code",
   "execution_count": 38,
   "id": "80f86ecc",
   "metadata": {},
   "outputs": [
    {
     "data": {
      "image/png": "[encoded data removed]",
      "text/plain": [
       "<Figure size 432x288 with 1 Axes>"
      ]
     },
     "metadata": {
      "needs_background": "light"
     },
     "output_type": "display_data"
    }
   ],
   "source": [
    "# plot history\n",
    "plt.plot(history.history['loss'], label='train')\n",
    "plt.plot(history.history['val_loss'], label='val')\n",
    "plt.legend()\n",
    "plt.show()"
   ]
  },
  {
   "cell_type": "code",
   "execution_count": 39,
   "id": "199ad05c",
   "metadata": {},
   "outputs": [],
   "source": [
    "def prep_data(dataset_test , y_test , start , end , last):\n",
    "    #prepare test data X\n",
    "    dataset_test_X = dataset_test[start:end, :]\n",
    "    test_X_new = dataset_test_X.reshape(1,dataset_test_X.shape[0],dataset_test_X.shape[1])\n",
    "    #prepare groundtruth\n",
    "    dataset_test_y = y_test[end:last , :]\n",
    "    scaler1 = MinMaxScaler(feature_range=(0, 1))\n",
    "    scaler1.fit(dataset_test_y)\n",
    "    #predictions\n",
    "    y_pred = model.predict(test_X_new, verbose=0)\n",
    "    y_pred_inv = scaler1.inverse_transform(y_pred)\n",
    "    y_pred_inv = y_pred_inv.reshape(n_steps_out,1)\n",
    "    y_pred_inv = y_pred_inv[:,0]\n",
    "    \n",
    "    return y_pred_inv , dataset_test_y\n",
    "\n",
    "# Calculate MAE and RMSE\n",
    "def evaluate_prediction(predictions, actual, model_name):\n",
    "    errors = predictions - actual\n",
    "    mse = np.square(errors).mean()\n",
    "    rmse = np.sqrt(mse)\n",
    "    mae = np.abs(errors).mean()\n",
    "    mape = (np.abs(errors)/actual).mean()\n",
    "    print('Mean Absolute Error: {:.2f}'.format(mae))\n",
    "    print('Mean Absolute Percentage Error (MAPE): {:.2f}'.format(mape))\n",
    "    print('Root Mean Square Error: {:.2f}'.format(rmse))\n",
    "    print('')\n",
    "    print('')\n",
    "    \n",
    "# Plot history and future\n",
    "def plot_multistep(prediction , groundtruth, plot_mean = False):\n",
    "    plt.figure(figsize=(20, 4))\n",
    "    if not plot_mean:\n",
    "        plt.plot(np.arange(len(prediction)), np.array(groundtruth),label='GroundTruth', alpha=0.5)\n",
    "        plt.plot(np.arange(len(prediction)), np.array(prediction),label='Forecasted with LSTM',alpha=0.7)\n",
    "\n",
    "    if plot_mean:\n",
    "        plt.plot(np.arange(len(prediction)), np.array(prediction.mean(axis=1)),label='Forecasted with LSTM',alpha=0.7)\n",
    "        plt.plot(np.arange(len(prediction)), np.array(groundtruth.mean(axis=1)),label='GroundTruth', alpha=0.7)\n",
    "        \n",
    "    plt.axhline(y=0, color='black', linestyle='--', lw=1, alpha=0.5)\n",
    "    plt.legend(loc='upper right')\n",
    "    plt.xlabel('Time step' ,  fontsize=18)\n",
    "    plt.ylabel('y-value' , fontsize=18)\n",
    "    plt.ylim(-100, 100)"
   ]
  },
  {
   "cell_type": "code",
   "execution_count": 40,
   "id": "73076937",
   "metadata": {},
   "outputs": [],
   "source": [
    "testing = nyiso_zone_dict[zone].iloc[17496:,:]"
   ]
  },
  {
   "cell_type": "code",
   "execution_count": 41,
   "id": "10f21308-99b2-4f37-a5b4-0ca1b4b39343",
   "metadata": {},
   "outputs": [
    {
     "name": "stdout",
     "output_type": "stream",
     "text": [
      "Mean Absolute Error: 23.44\n",
      "Mean Absolute Percentage Error (MAPE): inf\n",
      "Root Mean Square Error: 42.06\n",
      "\n",
      "\n"
     ]
    }
   ],
   "source": [
    "#start can be any point in the test data (1258)\n",
    "y_pred_inv_full = np.zeros(len(testing) - n_steps_in)\n",
    "for i in range(int(len(testing)/n_steps_out)-int(n_steps_in/24)):\n",
    "    start = i*n_steps_out\n",
    "    end = start + n_steps_in \n",
    "    last = end + n_steps_out\n",
    "    y_test = testing.iloc[:,0].values\n",
    "    y_test = y_test.reshape((len(y_test), 1))\n",
    "    y_pred_inv , dataset_test_y = prep_data(pjm_test_scaled[:,3:] , y_test , start , end, last)\n",
    "    y_pred_inv_full[start:start+n_steps_out] = y_pred_inv\n",
    "    \n",
    "y_truth = y_test[n_steps_in:,:]\n",
    "evaluate_prediction(y_pred_inv_full , y_truth, 'LSTM')"
   ]
  },
  {
   "cell_type": "code",
   "execution_count": 42,
   "id": "0ead3583-c45b-4767-930d-ea020648421c",
   "metadata": {},
   "outputs": [],
   "source": [
    "pd.DataFrame(y_pred_inv_full).to_csv('nyiso_predictions_'+zone+'_19to21.csv')"
   ]
  },
  {
   "cell_type": "code",
   "execution_count": null,
   "id": "0636b0af",
   "metadata": {},
   "outputs": [],
   "source": []
  },
  {
   "cell_type": "code",
   "execution_count": null,
   "id": "8c169ba1",
   "metadata": {},
   "outputs": [],
   "source": []
  },
  {
   "cell_type": "code",
   "execution_count": null,
   "id": "b396bfbb",
   "metadata": {},
   "outputs": [],
   "source": []
  },
  {
   "cell_type": "code",
   "execution_count": null,
   "id": "cf686971",
   "metadata": {},
   "outputs": [],
   "source": [
    "days = int(len(testing)/n_steps_out)-int(n_steps_in/24)\n",
    "\n",
    "plot_multistep(y_pred_inv_full , y_truth)\n",
    "plot_multistep(y_pred_inv_full.reshape(days,24), y_truth.reshape(days,24), plot_mean = True)\n",
    "\n"
   ]
  },
  {
   "cell_type": "markdown",
   "id": "17892f80",
   "metadata": {},
   "source": [
    "# Accuracy of Signal for 1th Percintile\n",
    "\n",
    "Check how many time does the model forecasted INC or DEC signal. This can be done by checking on the sign of the of the predicted value. If it is (+) then the DA price is higher than the RT price, which means INC offer. If it is lower then it will place a DEC bid. Then compare with the fround truth to get the accuracy.\n",
    "\n",
    "To make the model more profitable, we consider only the top 1th percintile of absolute price value."
   ]
  },
  {
   "cell_type": "code",
   "execution_count": null,
   "id": "c047fddb-66e1-4e01-8603-8f52880140ee",
   "metadata": {},
   "outputs": [],
   "source": [
    "# 1 means INC offer, 0 means DEC bed\n",
    "offers_pred = np.zeros(len(y_pred_inv_full))\n",
    "offers_truth = np.zeros(len(y_truth))\n",
    "for i in range(len(y_pred_inv_full)):\n",
    "    if y_pred_inv_full[i] > 0:\n",
    "        offers_pred[i] = 1\n",
    "    if y_truth[i] > 0:\n",
    "        offers_truth[i] = 1\n",
    "\n",
    "# offers_acc = (len(offers_pred) - abs(offers_pred - offers_truth).sum())/len(offers_pred)\n",
    "conf_matrix = confusion_matrix(offers_truth, offers_pred)\n",
    "offers_acc = conf_matrix.diagonal().sum()/conf_matrix.sum(axis=1).sum()\n",
    "\n",
    "# for the top 1th\n",
    "top_perc = np.array(np.asarray(abs(y_truth)>np.percentile(abs(y_truth), 99)).nonzero()).flatten()\n",
    "top_offers_pred = offers_pred[top_perc]\n",
    "top_offers_truth = offers_truth[top_perc]\n",
    "# top_offers_acc = (len(top_offers_pred) - abs(top_offers_pred - top_offers_truth).sum())/len(top_offers_truth)\n",
    "top_conf_matrix = confusion_matrix(top_offers_truth, top_offers_pred)\n",
    "top_offers_acc = top_conf_matrix.diagonal().sum()/top_conf_matrix.sum(axis=1).sum()\n",
    "\n",
    "print(conf_matrix)\n",
    "print('offers accuracy for testing:                    ', offers_acc, '\\n')\n",
    "\n",
    "print(top_conf_matrix)\n",
    "print('offers accuracy for top 1th percentile testing: ', top_offers_acc, '\\n')\n"
   ]
  },
  {
   "cell_type": "code",
   "execution_count": null,
   "id": "34c8a0ac",
   "metadata": {},
   "outputs": [],
   "source": [
    "cm = confusion_matrix(offers_truth, offers_pred, normalize='all')\n",
    "cmd = ConfusionMatrixDisplay(cm)\n",
    "cmd.plot(cmap=plt.cm.Blues)\n",
    "cmd.ax_.set(xlabel='Predicted', ylabel='True')"
   ]
  },
  {
   "cell_type": "code",
   "execution_count": null,
   "id": "79ba1a05",
   "metadata": {},
   "outputs": [],
   "source": [
    "cm = confusion_matrix(top_offers_truth, top_offers_pred, normalize='all')\n",
    "cmd = ConfusionMatrixDisplay(cm)\n",
    "cmd.plot(cmap=plt.cm.Blues)\n",
    "cmd.ax_.set(xlabel='Predicted', ylabel='True')"
   ]
  },
  {
   "cell_type": "code",
   "execution_count": null,
   "id": "5ff41585",
   "metadata": {},
   "outputs": [],
   "source": [
    "print(classification_report(offers_truth, offers_pred))"
   ]
  },
  {
   "cell_type": "code",
   "execution_count": null,
   "id": "70acfcbf",
   "metadata": {},
   "outputs": [],
   "source": [
    "print(classification_report(top_offers_truth, top_offers_pred))"
   ]
  },
  {
   "cell_type": "code",
   "execution_count": null,
   "id": "cf1bb80b",
   "metadata": {},
   "outputs": [],
   "source": []
  },
  {
   "cell_type": "code",
   "execution_count": null,
   "id": "c14ee35f",
   "metadata": {},
   "outputs": [],
   "source": []
  },
  {
   "cell_type": "code",
   "execution_count": null,
   "id": "2a5f6f4e",
   "metadata": {},
   "outputs": [],
   "source": []
  },
  {
   "cell_type": "code",
   "execution_count": null,
   "id": "13a5adf9",
   "metadata": {},
   "outputs": [],
   "source": []
  },
  {
   "cell_type": "code",
   "execution_count": null,
   "id": "87987cae",
   "metadata": {},
   "outputs": [],
   "source": []
  },
  {
   "cell_type": "code",
   "execution_count": null,
   "id": "e909f130",
   "metadata": {},
   "outputs": [],
   "source": []
  },
  {
   "cell_type": "code",
   "execution_count": null,
   "id": "527db826",
   "metadata": {},
   "outputs": [],
   "source": []
  },
  {
   "cell_type": "markdown",
   "id": "5fa7399b",
   "metadata": {},
   "source": [
    "# Model Parameter\n",
    "\n",
    "Following the parameters in the paper"
   ]
  },
  {
   "cell_type": "code",
   "execution_count": null,
   "id": "d1534593",
   "metadata": {},
   "outputs": [],
   "source": []
  },
  {
   "cell_type": "markdown",
   "id": "9f063a64",
   "metadata": {},
   "source": [
    "# Model Building "
   ]
  },
  {
   "cell_type": "code",
   "execution_count": null,
   "id": "52f79ed5",
   "metadata": {},
   "outputs": [],
   "source": []
  },
  {
   "cell_type": "code",
   "execution_count": null,
   "id": "31d820f8",
   "metadata": {},
   "outputs": [],
   "source": []
  },
  {
   "cell_type": "code",
   "execution_count": null,
   "id": "de64c9a9",
   "metadata": {},
   "outputs": [],
   "source": []
  },
  {
   "cell_type": "code",
   "execution_count": null,
   "id": "3331ef7b",
   "metadata": {},
   "outputs": [],
   "source": []
  },
  {
   "cell_type": "code",
   "execution_count": null,
   "id": "57c7ce59",
   "metadata": {},
   "outputs": [],
   "source": []
  },
  {
   "cell_type": "code",
   "execution_count": null,
   "id": "9d4698ec",
   "metadata": {},
   "outputs": [],
   "source": []
  },
  {
   "cell_type": "code",
   "execution_count": null,
   "id": "26c1e62c",
   "metadata": {},
   "outputs": [],
   "source": []
  },
  {
   "cell_type": "code",
   "execution_count": null,
   "id": "44abd10e",
   "metadata": {},
   "outputs": [],
   "source": []
  },
  {
   "cell_type": "code",
   "execution_count": null,
   "id": "07b08372",
   "metadata": {},
   "outputs": [],
   "source": []
  },
  {
   "cell_type": "markdown",
   "id": "3713ac89",
   "metadata": {},
   "source": [
    "# Model Training "
   ]
  },
  {
   "cell_type": "code",
   "execution_count": null,
   "id": "3a9fb2ec",
   "metadata": {},
   "outputs": [],
   "source": []
  },
  {
   "cell_type": "code",
   "execution_count": null,
   "id": "427a3580",
   "metadata": {},
   "outputs": [],
   "source": []
  },
  {
   "cell_type": "code",
   "execution_count": null,
   "id": "a1124890",
   "metadata": {},
   "outputs": [],
   "source": []
  },
  {
   "cell_type": "code",
   "execution_count": null,
   "id": "cc35a4fd",
   "metadata": {},
   "outputs": [],
   "source": []
  },
  {
   "cell_type": "markdown",
   "id": "433ff09a",
   "metadata": {},
   "source": [
    "# Model Tesing "
   ]
  },
  {
   "cell_type": "code",
   "execution_count": null,
   "id": "aaffa5a1",
   "metadata": {},
   "outputs": [],
   "source": []
  },
  {
   "cell_type": "code",
   "execution_count": null,
   "id": "79ad87d9",
   "metadata": {},
   "outputs": [],
   "source": []
  },
  {
   "cell_type": "code",
   "execution_count": null,
   "id": "00b47003",
   "metadata": {},
   "outputs": [],
   "source": []
  },
  {
   "cell_type": "markdown",
   "id": "97f903e0",
   "metadata": {},
   "source": [
    "# Plots "
   ]
  },
  {
   "cell_type": "code",
   "execution_count": null,
   "id": "953d6fbe",
   "metadata": {},
   "outputs": [],
   "source": []
  },
  {
   "cell_type": "code",
   "execution_count": null,
   "id": "7d159f04",
   "metadata": {},
   "outputs": [],
   "source": []
  },
  {
   "cell_type": "code",
   "execution_count": null,
   "id": "a002c420",
   "metadata": {},
   "outputs": [],
   "source": []
  },
  {
   "cell_type": "code",
   "execution_count": null,
   "id": "70adb970",
   "metadata": {},
   "outputs": [],
   "source": []
  },
  {
   "cell_type": "code",
   "execution_count": null,
   "id": "2e22990b",
   "metadata": {},
   "outputs": [],
   "source": []
  },
  {
   "cell_type": "code",
   "execution_count": null,
   "id": "143ddf18",
   "metadata": {},
   "outputs": [],
   "source": []
  },
  {
   "cell_type": "markdown",
   "id": "5040d3df",
   "metadata": {},
   "source": [
    "# Experimental Section"
   ]
  },
  {
   "cell_type": "markdown",
   "id": "ca7c34dc",
   "metadata": {},
   "source": [
    "Just dumping code snippets to try different things or abandoned ideas"
   ]
  },
  {
   "cell_type": "markdown",
   "id": "aa5f16b5",
   "metadata": {},
   "source": []
  },
  {
   "cell_type": "markdown",
   "id": "5d25bc51",
   "metadata": {},
   "source": []
  },
  {
   "cell_type": "code",
   "execution_count": null,
   "id": "cfce7d03",
   "metadata": {},
   "outputs": [],
   "source": []
  },
  {
   "cell_type": "code",
   "execution_count": null,
   "id": "2d68a536",
   "metadata": {},
   "outputs": [],
   "source": []
  },
  {
   "cell_type": "code",
   "execution_count": null,
   "id": "6da2b227",
   "metadata": {},
   "outputs": [],
   "source": [
    "############## DONT TOUCH ##################\n",
    "\n",
    "def prep_data(dataset_test , y_test , start , end , last):\n",
    "    #prepare test data X\n",
    "    dataset_test_X = dataset_test[start:end, :]\n",
    "#     print(\"dataset_test_X :\",dataset_test_X.shape)\n",
    "    test_X_new = dataset_test_X.reshape(1,dataset_test_X.shape[0],dataset_test_X.shape[1])\n",
    "#     print(\"test_X_new :\",test_X_new.shape)\n",
    "    #prepare past and groundtruth\n",
    "    past_data = y_test[:end , :]\n",
    "    dataset_test_y = y_test[end:last , :]\n",
    "    scaler1 = MinMaxScaler(feature_range=(0, 1))\n",
    "    scaler1.fit(dataset_test_y)\n",
    "#     print(\"dataset_test_y :\",dataset_test_y.shape)\n",
    "#     print(\"past_data :\",past_data.shape)\n",
    "    #predictions\n",
    "    y_pred = model.predict(test_X_new)\n",
    "    y_pred_inv = scaler1.inverse_transform(y_pred)\n",
    "    y_pred_inv = y_pred_inv.reshape(n_steps_out,1)\n",
    "    y_pred_inv = y_pred_inv[:,0]\n",
    "#     print(\"y_pred :\",y_pred.shape)\n",
    "#     print(\"y_pred_inv :\",y_pred_inv.shape)\n",
    "    \n",
    "    return y_pred_inv , dataset_test_y , past_data\n",
    "\n",
    "# Calculate MAE and RMSE\n",
    "def evaluate_prediction(predictions, actual, model_name , start , end):\n",
    "    errors = predictions - actual\n",
    "    mse = np.square(errors).mean()\n",
    "    rmse = np.sqrt(mse)\n",
    "    mae = np.abs(errors).mean()\n",
    "    print(\"Test Data from {} to {}\".format(start, end))\n",
    "    print('Mean Absolute Error: {:.2f}'.format(mae))\n",
    "    print('Root Mean Square Error: {:.2f}'.format(rmse))\n",
    "    print('')\n",
    "    print('')\n",
    "    \n",
    "# Plot history and future\n",
    "def plot_multistep(history, prediction1 , groundtruth , start , end):\n",
    "    plt.figure(figsize=(20, 4))\n",
    "    y_mean = np.mean(prediction1)\n",
    "    range_history = len(history)\n",
    "    range_future = list(range(range_history, range_history + len(prediction1)))\n",
    "    plt.plot(np.arange(range_history), np.array(history), label='History')\n",
    "    plt.plot(range_future, np.array(prediction1),label='Forecasted with LSTM')\n",
    "    plt.plot(range_future, np.array(groundtruth),label='GroundTruth')\n",
    "    plt.axhline(y=0, color='black', linestyle='--', lw=1, alpha=0.5)\n",
    "    plt.legend(loc='upper right')\n",
    "    #plt.title(\"Test Data from {} to {} , Mean = {:.2f}\".format(start, end, y_mean) ,  fontsize=18)\n",
    "    plt.xlabel('Time step' ,  fontsize=18)\n",
    "    plt.ylabel('y-value' , fontsize=18)\n",
    "    plt.ylim(-50, 50)"
   ]
  },
  {
   "cell_type": "code",
   "execution_count": null,
   "id": "0a985ef3",
   "metadata": {},
   "outputs": [],
   "source": []
  },
  {
   "cell_type": "code",
   "execution_count": null,
   "id": "959758fd",
   "metadata": {},
   "outputs": [],
   "source": []
  },
  {
   "cell_type": "code",
   "execution_count": null,
   "id": "7c333f38",
   "metadata": {},
   "outputs": [],
   "source": []
  },
  {
   "cell_type": "code",
   "execution_count": null,
   "id": "e0993952",
   "metadata": {},
   "outputs": [],
   "source": [
    "# Reading and cleaning all datasets for pjm market\n",
    "def read_dataset(year):\n",
    "    da_lmp = pd.read_csv(\"pjm/\"+str(year)+\"_da_lmp.csv\")\n",
    "    da_lmp = da_lmp.loc[da_lmp['pnode_name'] == 'PJM-RTO'].drop(da_lmp.columns[[1]], axis=1).reset_index(drop=True)\n",
    "\n",
    "    rt_lmp = pd.read_csv(\"pjm/\"+str(year)+\"_rt_lmp.csv\")\n",
    "    rt_lmp = rt_lmp.loc[rt_lmp['pnode_name'] == 'PJM-RTO'].drop(rt_lmp.columns[[1]], axis=1).reset_index(drop=True)\n",
    "\n",
    "    actual_load = pd.read_csv(\"pjm/\"+str(year)+\"_hrl_load.csv\")\n",
    "    actual_load = actual_load.loc[actual_load['zone'] == 'RTO'].drop(actual_load.columns[[1]], axis=1).reset_index(drop=True)\n",
    "\n",
    "    frcstd_load = pd.read_csv(\"pjm/\"+str(year)+\"_load_frcstd.csv\")\n",
    "    frcstd_load = frcstd_load.loc[frcstd_load['forecast_area'] == 'RTO'].drop(frcstd_load.columns[[2]], axis=1).reset_index(drop=True)\n",
    "    frcstd_load.drop_duplicates(subset='forecast_hour_beginning_ept', keep=\"first\", inplace=True)\n",
    "    frcstd_load = frcstd_load.drop(frcstd_load.columns[[0]], axis=1).reset_index(drop=True)\n",
    "    frcstd_load.rename(columns={'forecast_hour_beginning_ept': 'datetime_beginning_ept'}, inplace=True)\n",
    "\n",
    "    pjm = pd.merge(pd.merge(pd.merge(da_lmp, rt_lmp), actual_load), frcstd_load)\n",
    "    return pjm\n",
    "\n",
    "# Concatenate the datasets into one dataframe\n",
    "pjm_2015 = read_dataset(2015)"
   ]
  },
  {
   "cell_type": "code",
   "execution_count": null,
   "id": "0919fef9",
   "metadata": {},
   "outputs": [],
   "source": []
  },
  {
   "cell_type": "code",
   "execution_count": null,
   "id": "30ba6638",
   "metadata": {},
   "outputs": [],
   "source": []
  },
  {
   "cell_type": "code",
   "execution_count": null,
   "id": "0b668109",
   "metadata": {},
   "outputs": [],
   "source": []
  },
  {
   "cell_type": "code",
   "execution_count": null,
   "id": "3512afa3",
   "metadata": {},
   "outputs": [],
   "source": []
  },
  {
   "cell_type": "markdown",
   "id": "77ffa40b",
   "metadata": {},
   "source": [
    "# LSTM model to forecast one hour ahead"
   ]
  },
  {
   "cell_type": "code",
   "execution_count": null,
   "id": "e9c2b100",
   "metadata": {},
   "outputs": [],
   "source": [
    "# prepare data for lstm\n",
    "\n",
    "# convert series to supervised learning\n",
    "def series_to_supervised(data, n_in=1, n_out=1, dropnan=True):\n",
    "    n_vars = 1 if type(data) is list else data.shape[1]\n",
    "    df = DataFrame(data)\n",
    "    cols, names = list(), list()\n",
    "    # input sequence (t-n, ... t-1)\n",
    "    for i in range(n_in, 0, -1):\n",
    "        cols.append(df.shift(i))\n",
    "        names += [('var%d(t-%d)' % (j+1, i)) for j in range(n_vars)]\n",
    "    # forecast sequence (t, t+1, ... t+n)\n",
    "    for i in range(0, n_out):\n",
    "        cols.append(df.shift(-i))\n",
    "        if i == 0:\n",
    "            names += [('var%d(t)' % (j+1)) for j in range(n_vars)]\n",
    "        else:\n",
    "            names += [('var%d(t+%d)' % (j+1, i)) for j in range(n_vars)]\n",
    "    # put it all together\n",
    "    agg = concat(cols, axis=1)\n",
    "    agg.columns = names\n",
    "    # drop rows with NaN values\n",
    "    if dropnan:\n",
    "        agg.dropna(inplace=True)\n",
    "    return agg\n",
    "\n",
    "# load dataset\n",
    "values = pjm.values\n",
    "# integer encode direction\n",
    "encoder = LabelEncoder()\n",
    "values[:,4] = encoder.fit_transform(values[:,4])\n",
    "# ensure all data is float\n",
    "values = values.astype('float32')\n",
    "# normalize features\n",
    "scaler = MinMaxScaler(feature_range=(0, 1))\n",
    "scaled = scaler.fit_transform(values)\n"
   ]
  },
  {
   "cell_type": "code",
   "execution_count": null,
   "id": "321d1af3",
   "metadata": {},
   "outputs": [],
   "source": [
    "# configuration\n",
    "n_train_hours = 250 * 24\n",
    "n_hours = 24\n",
    "n_features = 35\n",
    "n_obs = n_hours * n_features\n",
    "\n",
    "# frame as supervised learning\n",
    "reframed = series_to_supervised(scaled, n_hours, 1)\n",
    "print(reframed.head())\n",
    "\n",
    "# split into train and test sets\n",
    "values = reframed.values\n",
    "\n",
    "train = values[:n_train_hours, :]\n",
    "test = values[n_train_hours:, :]\n",
    "# split into input and outputs\n",
    "train_X, train_y = train[:, :n_obs], train[:, -n_features]\n",
    "test_X, test_y = test[:, :n_obs], test[:, -n_features]\n",
    "# reshape input to be 3D [samples, timesteps, features]\n",
    "train_X = train_X.reshape((train_X.shape[0], n_hours, n_features))\n",
    "test_X = test_X.reshape((test_X.shape[0], n_hours, n_features))\n",
    "print(train_X.shape, train_y.shape, test_X.shape, test_y.shape)"
   ]
  },
  {
   "cell_type": "code",
   "execution_count": null,
   "id": "80f6735f",
   "metadata": {},
   "outputs": [],
   "source": [
    "# design network\n",
    "model = Sequential()\n",
    "model.add(LSTM(64, activation = 'tanh', return_sequences=True, input_shape=(train_X.shape[1], train_X.shape[2])))\n",
    "model.add(LSTM(1, activation = 'tanh'))\n",
    "# model.add(Dense(64))\n",
    "# model.add(Dense(32))\n",
    "model.add(Dense(1))\n",
    "model.compile(loss='mae', optimizer='adam')\n",
    "# fit network\n",
    "history = model.fit(train_X, train_y, epochs=20, batch_size=72, validation_data=(test_X, test_y), verbose=1, shuffle=False)\n",
    "# plot history\n",
    "pyplot.plot(history.history['loss'], label='train')\n",
    "pyplot.plot(history.history['val_loss'], label='test')\n",
    "pyplot.legend()\n",
    "pyplot.show()"
   ]
  },
  {
   "cell_type": "code",
   "execution_count": null,
   "id": "e58704f9",
   "metadata": {},
   "outputs": [],
   "source": [
    "# make a prediction\n",
    "yhat = model.predict(test_X)\n",
    "test_X = test_X.reshape((test_X.shape[0], test_X.shape[2]))\n",
    "# invert scaling for forecast\n",
    "inv_yhat = concatenate((yhat, test_X[:, -(n_features-1):]), axis=1)\n",
    "inv_yhat = scaler.inverse_transform(inv_yhat)\n",
    "inv_yhat = inv_yhat[:,0]\n",
    "# invert scaling for actual\n",
    "test_y = test_y.reshape((len(test_y), 1))\n",
    "inv_y = concatenate((test_y, test_X[:, -(n_features-1):]), axis=1)\n",
    "inv_y = scaler.inverse_transform(inv_y)\n",
    "inv_y = inv_y[:,0]\n",
    "# calculate RMSE\n",
    "rmse = np.sqrt(mean_squared_error(inv_y, inv_yhat))\n",
    "print('Test RMSE: %.3f' % rmse)"
   ]
  },
  {
   "cell_type": "code",
   "execution_count": null,
   "id": "3d09f58f",
   "metadata": {},
   "outputs": [],
   "source": []
  },
  {
   "cell_type": "code",
   "execution_count": null,
   "id": "8179cc62",
   "metadata": {},
   "outputs": [],
   "source": []
  },
  {
   "cell_type": "code",
   "execution_count": null,
   "id": "04f6b7e5",
   "metadata": {},
   "outputs": [],
   "source": [
    "year = 2016"
   ]
  },
  {
   "cell_type": "code",
   "execution_count": null,
   "id": "94214e67",
   "metadata": {},
   "outputs": [],
   "source": [
    "da_lmp = pd.read_csv(\"pjm/\"+str(year)+\"_da_lmp.csv\")\n",
    "da_lmp = da_lmp.loc[da_lmp['pnode_name'] == 'PJM-RTO'].drop(da_lmp.columns[[1]], axis=1).reset_index(drop=True)\n",
    "\n",
    "rt_lmp = pd.read_csv(\"pjm/\"+str(year)+\"_rt_lmp.csv\")\n",
    "rt_lmp = rt_lmp.loc[rt_lmp['pnode_name'] == 'PJM-RTO'].drop(rt_lmp.columns[[1]], axis=1).reset_index(drop=True)\n",
    "\n",
    "actual_load = pd.read_csv(\"pjm/\"+str(year)+\"_hrl_load.csv\")\n",
    "actual_load = actual_load.loc[actual_load['zone'] == 'RTO'].drop(actual_load.columns[[1]], axis=1).reset_index(drop=True)\n",
    "\n",
    "frcstd_load = pd.read_csv(\"pjm/\"+str(year)+\"_load_frcstd.csv\")\n",
    "frcstd_load = frcstd_load.loc[frcstd_load['forecast_area'] == 'RTO'].drop(frcstd_load.columns[[2]], axis=1).reset_index(drop=True)\n",
    "frcstd_load.drop_duplicates(subset='forecast_hour_beginning_ept', keep=\"first\", inplace=True)\n",
    "frcstd_load = frcstd_load.drop(frcstd_load.columns[[0]], axis=1).reset_index(drop=True)\n",
    "frcstd_load.rename(columns={'forecast_hour_beginning_ept': 'datetime_beginning_ept'}, inplace=True)\n",
    "frcstd_load = frcstd_load.reindex(frcstd_load.index.append(frcstd_load.index[frcstd_load.datetime_beginning_ept\n",
    "                                                                             =='11/1/15 1:00'])).sort_index().reset_index(drop=True)\n",
    "# Concatenate the datasets into one dataframe\n",
    "pjm = pd.concat([da_lmp, rt_lmp, actual_load, frcstd_load], axis=1)\n",
    "pjm = pjm.loc[:,~pjm.columns.duplicated()].copy()\n",
    "\n",
    "\n",
    "# # Calculating the lmp spread and adding it to the dataset\n",
    "# lmp_spread = pjm['total_lmp_da'] - pjm['total_lmp_rt']\n",
    "# pjm.insert(0, 'lmp_spread', lmp_spread)\n",
    "\n",
    "# # preprocess the dataset\n",
    "# pjm[['Date', 'Time']] = pjm['datetime_beginning_ept'].str.split(' ', 1, expand=True)\n",
    "# one_hot = pd.get_dummies(pjm['Time'].str.zfill(5))\n",
    "# pjm = pjm.join(one_hot).drop(['Date', 'Time'],axis=1)\n",
    "# pjm.set_index('datetime_beginning_ept', inplace=True)"
   ]
  },
  {
   "cell_type": "code",
   "execution_count": null,
   "id": "0f9fe768",
   "metadata": {},
   "outputs": [],
   "source": [
    "pjm"
   ]
  },
  {
   "cell_type": "code",
   "execution_count": null,
   "id": "41b8043d",
   "metadata": {},
   "outputs": [],
   "source": [
    "pjm.iloc[7295:7299]"
   ]
  },
  {
   "cell_type": "code",
   "execution_count": null,
   "id": "729f548b",
   "metadata": {},
   "outputs": [],
   "source": [
    "da_lmp.iloc[7295:7299]"
   ]
  },
  {
   "cell_type": "code",
   "execution_count": null,
   "id": "74f660f5",
   "metadata": {},
   "outputs": [],
   "source": [
    "rt_lmp.iloc[7295:7299]"
   ]
  },
  {
   "cell_type": "code",
   "execution_count": null,
   "id": "2bf594da",
   "metadata": {},
   "outputs": [],
   "source": [
    "pjm[['Date', 'Time']] = pjm['datetime_beginning_ept'].str.split(' ', 1, expand=True)\n",
    "df = pjm.groupby(['Date'],as_index=False).size()\n",
    "df.loc[df['size'] == 27]"
   ]
  },
  {
   "cell_type": "code",
   "execution_count": null,
   "id": "5a2c1ffa",
   "metadata": {},
   "outputs": [],
   "source": [
    "df"
   ]
  },
  {
   "cell_type": "code",
   "execution_count": null,
   "id": "d1b397c0",
   "metadata": {},
   "outputs": [],
   "source": [
    "frcstd_load"
   ]
  },
  {
   "cell_type": "code",
   "execution_count": null,
   "id": "29963ae1",
   "metadata": {},
   "outputs": [],
   "source": []
  },
  {
   "cell_type": "code",
   "execution_count": null,
   "id": "82c8c421",
   "metadata": {},
   "outputs": [],
   "source": []
  },
  {
   "cell_type": "code",
   "execution_count": null,
   "id": "490920a3",
   "metadata": {},
   "outputs": [],
   "source": []
  },
  {
   "cell_type": "code",
   "execution_count": null,
   "id": "0eb38629",
   "metadata": {},
   "outputs": [],
   "source": []
  },
  {
   "cell_type": "code",
   "execution_count": null,
   "id": "6e6597eb",
   "metadata": {},
   "outputs": [],
   "source": [
    "year = 2017"
   ]
  },
  {
   "cell_type": "code",
   "execution_count": null,
   "id": "de2ebfdb",
   "metadata": {},
   "outputs": [],
   "source": [
    "rt_lmp = pd.read_csv(\"pjm/\"+str(year)+\"_rt_lmp.csv\")\n",
    "rt_lmp = rt_lmp.loc[rt_lmp['pnode_name'] == 'PJM-RTO'].drop(rt_lmp.columns[[1]], axis=1).reset_index(drop=True)\n",
    "rt_lmp[['Date', 'Time']] = rt_lmp['datetime_beginning_ept'].str.split(' ', 1, expand=True)\n",
    "df = rt_lmp.groupby(['Date'],as_index=False).size()\n",
    "df.loc[df['size'] == 24]"
   ]
  },
  {
   "cell_type": "code",
   "execution_count": null,
   "id": "c18afb71",
   "metadata": {},
   "outputs": [],
   "source": [
    "df.head(10)"
   ]
  },
  {
   "cell_type": "code",
   "execution_count": null,
   "id": "ffde47d2",
   "metadata": {},
   "outputs": [],
   "source": [
    "df"
   ]
  },
  {
   "cell_type": "code",
   "execution_count": null,
   "id": "e8c86d85",
   "metadata": {},
   "outputs": [],
   "source": [
    "df = da_lmp.groupby(['Date'],as_index=False).size()\n",
    "df.loc[df['size'] == 23]"
   ]
  },
  {
   "cell_type": "code",
   "execution_count": null,
   "id": "6c235a22",
   "metadata": {},
   "outputs": [],
   "source": []
  },
  {
   "cell_type": "code",
   "execution_count": null,
   "id": "6c75f8da",
   "metadata": {},
   "outputs": [],
   "source": [
    "da_lmp, rt_lmp"
   ]
  },
  {
   "cell_type": "code",
   "execution_count": null,
   "id": "2b367091",
   "metadata": {},
   "outputs": [],
   "source": [
    "_ = np.where(da_lmp['datetime_beginning_ept'] == rt_lmp['datetime_beginning_ept'], True, False)\n",
    "len(np.where(_)[0])"
   ]
  },
  {
   "cell_type": "code",
   "execution_count": null,
   "id": "dfea32e0",
   "metadata": {},
   "outputs": [],
   "source": []
  },
  {
   "cell_type": "code",
   "execution_count": null,
   "id": "23395911",
   "metadata": {},
   "outputs": [],
   "source": []
  },
  {
   "cell_type": "code",
   "execution_count": null,
   "id": "f4200ea8",
   "metadata": {},
   "outputs": [],
   "source": [
    "# for i in range(len(frcstd_load.forecast_hour_beginning_ept)):\n",
    "#     frcstd_load.at[i, 'forecast_hour_beginning_ept'] = datetime.strptime(\n",
    "#         frcstd_load.forecast_hour_beginning_ept[i], '%m/%d/%y %I:%M:%S %p').strftime(\"%-m/%-d/%y %-H:%M\")"
   ]
  },
  {
   "cell_type": "code",
   "execution_count": null,
   "id": "f3c36e25",
   "metadata": {},
   "outputs": [],
   "source": [
    "# _ = np.where(da_lmp['datetime_beginning_ept'] == frcstd_load['datetime_beginning_ept'], True, False)\n",
    "# np.where(_)[0]"
   ]
  }
 ],
 "metadata": {
  "kernelspec": {
   "display_name": "Python 3 (ipykernel)",
   "language": "python",
   "name": "python3"
  },
  "language_info": {
   "codemirror_mode": {
    "name": "ipython",
    "version": 3
   },
   "file_extension": ".py",
   "mimetype": "text/x-python",
   "name": "python",
   "nbconvert_exporter": "python",
   "pygments_lexer": "ipython3",
   "version": "3.8.12"
  }
 },
 "nbformat": 4,
 "nbformat_minor": 5
}
