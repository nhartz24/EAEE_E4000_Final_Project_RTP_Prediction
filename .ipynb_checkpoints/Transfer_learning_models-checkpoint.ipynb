{
 "cells": [
  {
   "cell_type": "markdown",
   "id": "0b2aa88a",
   "metadata": {},
   "source": [
    "# RTP Forecasting: Transfer Learning"
   ]
  },
  {
   "cell_type": "code",
   "execution_count": 1,
   "id": "8b599e8c",
   "metadata": {
    "tags": []
   },
   "outputs": [],
   "source": [
    "import os\n",
    "os.environ['TF_CPP_MIN_LOG_LEVEL'] = '2'\n",
    "\n",
    "import numpy as np\n",
    "import time\n",
    "import pandas as pd\n",
    "import matplotlib.pyplot as plt\n",
    "\n",
    "import tensorflow as tf\n",
    "from tensorflow import keras\n",
    "import keras\n",
    "from tensorflow.keras.models import *\n",
    "from tensorflow.keras.callbacks import *\n",
    "from tensorflow.keras.layers import *\n",
    "\n",
    "%load_ext autoreload\n",
    "%autoreload 2\n",
    "%matplotlib inline"
   ]
  },
  {
   "cell_type": "code",
   "execution_count": 2,
   "id": "7317c723",
   "metadata": {
    "tags": []
   },
   "outputs": [
    {
     "name": "stdout",
     "output_type": "stream",
     "text": [
      "2.12.1\n"
     ]
    }
   ],
   "source": [
    "print(tf.__version__)"
   ]
  },
  {
   "cell_type": "code",
   "execution_count": 3,
   "id": "12e68172",
   "metadata": {
    "tags": []
   },
   "outputs": [],
   "source": [
    "cwd = os.getcwd()"
   ]
  },
  {
   "cell_type": "code",
   "execution_count": 4,
   "id": "791e50da",
   "metadata": {
    "tags": []
   },
   "outputs": [],
   "source": [
    "def make_dir(path):\n",
    "    if os.path.exists(path) is False:\n",
    "        os.makedirs(path)"
   ]
  },
  {
   "cell_type": "code",
   "execution_count": 5,
   "id": "0718e927-205c-4b38-ae1b-3a2b089806a7",
   "metadata": {
    "tags": []
   },
   "outputs": [],
   "source": [
    "model_path = os.path.join(cwd,'saved_model')\n",
    "make_dir(model_path)"
   ]
  },
  {
   "cell_type": "code",
   "execution_count": 6,
   "id": "3107984b",
   "metadata": {
    "tags": []
   },
   "outputs": [],
   "source": [
    "#timing callback\n",
    "class TimeHistory(keras.callbacks.Callback):\n",
    "    def on_train_begin(self, logs={}):\n",
    "        self.times = []\n",
    "\n",
    "    def on_epoch_begin(self, batch, logs={}):\n",
    "        self.epoch_time_start = time.time()\n",
    "\n",
    "    def on_epoch_end(self, batch, logs={}):\n",
    "        self.times.append(time.time() - self.epoch_time_start)"
   ]
  },
  {
   "cell_type": "code",
   "execution_count": 7,
   "id": "6599df1f",
   "metadata": {
    "tags": []
   },
   "outputs": [],
   "source": [
    "# Plot history and future\n",
    "def plot_predictions(pred , actual, title):\n",
    "    plt.figure(figsize=(20, 4), dpi=150)\n",
    "    plt.plot(np.arange(len(pred)), np.array(pred),label='cnn',alpha=0.7)\n",
    "    plt.plot(np.arange(len(pred)), np.array(actual),label='PF', alpha=0.7)\n",
    "    plt.axhline(y=0, color='black', linestyle='--', lw=1, alpha=0.5)\n",
    "    plt.legend(loc='upper right')\n",
    "    plt.xlabel('Time step' ,  fontsize=18)\n",
    "    plt.ylabel('Price' , fontsize=18)\n",
    "    plt.title(title, fontsize=16)"
   ]
  },
  {
   "cell_type": "code",
   "execution_count": 8,
   "id": "f090a8e8",
   "metadata": {
    "tags": []
   },
   "outputs": [],
   "source": [
    "# Plot history and future\n",
    "def plot_predictions_slide(pred_1,pred_2,pred_3, actual, title):\n",
    "    plt.figure(figsize=(20, 4), dpi=150)\n",
    "    plt.plot(np.arange(len(pred_1)), np.array(actual),label='PF', alpha=0.7)\n",
    "    plt.plot(np.arange(len(pred_1)), np.array(pred_1),label='cnn-24',alpha=0.7)\n",
    "    plt.plot(np.arange(len(pred_1)), np.array(pred_2),label='cnn-48',alpha=0.7)\n",
    "    plt.plot(np.arange(len(pred_1)), np.array(pred_3),label='cnn-27',alpha=0.7)\n",
    "    plt.axhline(y=0, color='black', linestyle='--', lw=1, alpha=0.5)\n",
    "    plt.legend(loc='upper right')\n",
    "    plt.xlabel('Time step' ,  fontsize=18)\n",
    "    plt.ylabel('Price' , fontsize=18)\n",
    "    plt.title(title, fontsize=16)"
   ]
  },
  {
   "cell_type": "code",
   "execution_count": 9,
   "id": "8eeacbf0",
   "metadata": {
    "tags": []
   },
   "outputs": [],
   "source": [
    "# zones = ['CAPITL', 'CENTRL', 'DUNWOD', 'GENESE', 'HUD VL', 'LONGIL',\n",
    "#         'MHK VL', 'MILLWD', 'N.Y.C.', 'NORTH', 'WEST']\n",
    "zone = 'CAPITL'\n",
    "year = 2021"
   ]
  },
  {
   "cell_type": "markdown",
   "id": "90dfa8fa-784e-44b9-85bd-09cf7bcd7943",
   "metadata": {},
   "source": [
    "### Data Import"
   ]
  },
  {
   "cell_type": "code",
   "execution_count": 10,
   "id": "fff45aee-1e6f-40af-8163-f5f091b19f90",
   "metadata": {
    "tags": []
   },
   "outputs": [],
   "source": [
    "# Read each timeseries (RTP = Real-Time Price, DAP = Day-Ahead Price, LF = Load Forecast)\n",
    "raw_DAP = pd.read_csv(\"nyiso/da_lmp_zones_df_2015_2021.csv\", index_col=0)\n",
    "raw_RTP = pd.read_csv(\"nyiso/rt_lmp_zones_df_2015_2021.csv\", index_col=0)\n",
    "raw_LF = pd.read_csv(\"nyiso/load_frcstd_df_2015_2021.csv\", index_col=0)\n",
    "\n",
    "# Prepare the dataset as a dataframe\n",
    "raw_data = pd.concat([raw_DAP.loc[:,zone], raw_LF.loc[:,zone], raw_RTP.loc[:,zone]],\n",
    "                       axis=1).loc['2017-01-01 05:00:00+00:00':]\n",
    "raw_data.columns = ['DAP', 'LF', 'RTP']\n",
    "raw_data.index.names = ['date']\n",
    "raw_data.to_csv('nyiso/NYISO_'+zone+'_raw.csv')\n",
    "\n",
    "log_data = raw_data.copy(deep=True)\n",
    "log_data.loc[:,\"DAP\"] = np.log(raw_data.loc[:,\"DAP\"] + 1 - min(raw_data.loc[:,\"DAP\"]))\n",
    "log_data.loc[:,\"RTP\"] = np.log(raw_data.loc[:,\"RTP\"] + 1 - min(raw_data.loc[:,\"RTP\"]))\n",
    "log_data.to_csv('nyiso/NYISO_'+zone+'_log.csv')"
   ]
  },
  {
   "cell_type": "code",
   "execution_count": 11,
   "id": "461cb3c1-c58a-4717-8643-c47eb5767fdf",
   "metadata": {
    "tags": []
   },
   "outputs": [
    {
     "name": "stdout",
     "output_type": "stream",
     "text": [
      "DAP mean: 44.6038\n",
      "DAP std: 18.9331\n",
      "RTP mean: 44.1633\n",
      "RTP std: 29.5993\n"
     ]
    }
   ],
   "source": [
    "# price statistics\n",
    "print('DAP mean: {:.4f}'.format(raw_data.iloc[8760*4+24:,:1].mean()[0]))\n",
    "print('DAP std: {:.4f}'.format(raw_data.iloc[8760*4+24:,:1].std()[0]))\n",
    "print('RTP mean: {:.4f}'.format(raw_data.iloc[8760*4+24:,2:].mean()[0]))\n",
    "print('RTP std: {:.4f}'.format(raw_data.iloc[8760*4+24:,2:].std()[0]))"
   ]
  },
  {
   "cell_type": "markdown",
   "id": "01ae7d42-b877-42e3-a0df-e57dc330760c",
   "metadata": {},
   "source": [
    "# Train model using short training set"
   ]
  },
  {
   "cell_type": "code",
   "execution_count": 12,
   "id": "ef6ee62a-c3ed-46db-ad80-6226c1c0d508",
   "metadata": {
    "tags": []
   },
   "outputs": [],
   "source": [
    "# Split dataset: 2020 year for training and 2021 year for testing\n",
    "x_train_df = log_data.iloc[8760*3:8760*4+24,:]\n",
    "x_test_df = log_data.iloc[8760*4+24:,:]\n",
    "\n",
    "y_train_df = log_data.iloc[8760*3:8760*4+24,2:]\n",
    "y_test_df = log_data.iloc[8760*4+24:,2:]"
   ]
  },
  {
   "cell_type": "code",
   "execution_count": 13,
   "id": "5496396d-c056-435e-910b-01a353208d83",
   "metadata": {
    "tags": []
   },
   "outputs": [],
   "source": [
    "# Standardization\n",
    "x_mean, x_std = x_train_df.mean(), x_train_df.std()\n",
    "y_mean, y_std = y_train_df.mean(), y_train_df.std()\n",
    "\n",
    "x_train = ((x_train_df - x_mean)/x_std).to_numpy()\n",
    "x_test = ((x_test_df - x_mean)/x_std).to_numpy()\n",
    "\n",
    "y_train = ((y_train_df - y_mean)/y_std).to_numpy()\n",
    "y_test = ((y_test_df - y_mean)/y_std).to_numpy()"
   ]
  },
  {
   "cell_type": "code",
   "execution_count": 14,
   "id": "e1223463-7b81-4c1c-a5fd-a167c7e4544b",
   "metadata": {
    "tags": []
   },
   "outputs": [
    {
     "name": "stdout",
     "output_type": "stream",
     "text": [
      "(8713, 48, 3) (8713, 24, 1) (8689, 48, 3) (8689, 24, 1)\n"
     ]
    }
   ],
   "source": [
    "# reshape data for CNN model\n",
    "n_steps_in = 48\n",
    "n_steps_out = 24\n",
    "\n",
    "x_train_cnn = np.array([x_train[i:i+n_steps_in] for i in range(0, x_train.shape[0]-n_steps_in-n_steps_out+1)])\n",
    "y_train_cnn = np.array([y_train[i+n_steps_in:i+n_steps_in+n_steps_out] for i in range(0, y_train.shape[0]-n_steps_in-n_steps_out+1)])\n",
    "\n",
    "x_test_cnn = np.array([x_test[i:i+n_steps_in] for i in range(0, x_test.shape[0]-n_steps_in-n_steps_out+1)])\n",
    "y_test_cnn = np.array([y_test[i+n_steps_in:i+n_steps_in+n_steps_out] for i in range(0, y_test.shape[0]-n_steps_in-n_steps_out+1)])\n",
    "\n",
    "print(x_train_cnn.shape,y_train_cnn.shape,x_test_cnn.shape,y_test_cnn.shape)"
   ]
  },
  {
   "cell_type": "code",
   "execution_count": 15,
   "id": "b57d5731-eb8c-49eb-80d4-2fccb228a735",
   "metadata": {
    "tags": []
   },
   "outputs": [],
   "source": [
    "# set hyperparameters\n",
    "n_filters  = 32  # number of filters\n",
    "n_neurons  = 64  # number of neurons in the Dense layer\n",
    "activation     = 'relu' # activation function\n",
    "kernel_size    = 3\n",
    "pool_size = 1\n",
    "learning_rate  = 0.0001\n",
    "minibatch_size = 32\n",
    "num_epochs     = 50"
   ]
  },
  {
   "cell_type": "code",
   "execution_count": 16,
   "id": "93fb9016-aae4-4901-a5b4-24a5bbe365d8",
   "metadata": {
    "tags": []
   },
   "outputs": [],
   "source": [
    "# Building the model\n",
    "cnn_model = Sequential()\n",
    "cnn_model.add(Conv1D(filters=n_filters,kernel_size=kernel_size, strides=2, padding='same',\n",
    "                     input_shape=(x_train_cnn.shape[1],x_train_cnn.shape[2]), activation=activation))\n",
    "cnn_model.add(Conv1D(filters=n_filters,kernel_size=kernel_size, strides=2, padding='same',\n",
    "                     input_shape=(x_train_cnn.shape[1],x_train_cnn.shape[2]), activation=activation))\n",
    "cnn_model.add(MaxPooling1D(pool_size=pool_size))\n",
    "cnn_model.add(Flatten())\n",
    "cnn_model.add(Dense(n_neurons, activation=activation))\n",
    "cnn_model.add(Dense(n_steps_out, activation='linear'))\n",
    "cnn_model.compile(loss='mse',optimizer=tf.keras.optimizers.Adam(learning_rate=learning_rate))"
   ]
  },
  {
   "cell_type": "code",
   "execution_count": 17,
   "id": "3b1f52b7-4cbf-434a-9a12-02b450da8611",
   "metadata": {
    "tags": []
   },
   "outputs": [
    {
     "name": "stdout",
     "output_type": "stream",
     "text": [
      "Epoch 1/50\n",
      "218/218 [==============================] - 3s 9ms/step - loss: 0.5272 - val_loss: 2.7823\n",
      "Epoch 2/50\n",
      "218/218 [==============================] - 1s 7ms/step - loss: 0.4668 - val_loss: 2.6200\n",
      "Epoch 3/50\n",
      "218/218 [==============================] - 2s 7ms/step - loss: 0.4407 - val_loss: 2.4331\n",
      "Epoch 4/50\n",
      "218/218 [==============================] - 1s 6ms/step - loss: 0.4231 - val_loss: 2.2429\n",
      "Epoch 5/50\n",
      "218/218 [==============================] - 1s 6ms/step - loss: 0.4092 - val_loss: 2.0614\n",
      "Epoch 6/50\n",
      "218/218 [==============================] - 2s 7ms/step - loss: 0.3980 - val_loss: 1.9011\n",
      "Epoch 7/50\n",
      "218/218 [==============================] - 1s 7ms/step - loss: 0.3889 - val_loss: 1.7744\n",
      "Epoch 8/50\n",
      "218/218 [==============================] - 1s 6ms/step - loss: 0.3819 - val_loss: 1.6746\n",
      "Epoch 9/50\n",
      "218/218 [==============================] - 2s 8ms/step - loss: 0.3764 - val_loss: 1.6010\n",
      "Epoch 10/50\n",
      "218/218 [==============================] - 2s 11ms/step - loss: 0.3722 - val_loss: 1.5470\n",
      "Epoch 11/50\n",
      "218/218 [==============================] - 2s 10ms/step - loss: 0.3688 - val_loss: 1.5057\n",
      "Epoch 12/50\n",
      "218/218 [==============================] - 2s 10ms/step - loss: 0.3659 - val_loss: 1.4749\n",
      "Epoch 13/50\n",
      "218/218 [==============================] - 2s 9ms/step - loss: 0.3635 - val_loss: 1.4541\n",
      "Epoch 14/50\n",
      "218/218 [==============================] - 2s 9ms/step - loss: 0.3613 - val_loss: 1.4370\n",
      "Epoch 15/50\n",
      "218/218 [==============================] - 2s 9ms/step - loss: 0.3595 - val_loss: 1.4219\n",
      "Epoch 16/50\n",
      "218/218 [==============================] - 2s 9ms/step - loss: 0.3578 - val_loss: 1.4105\n",
      "Epoch 17/50\n",
      "218/218 [==============================] - 2s 9ms/step - loss: 0.3562 - val_loss: 1.4020\n",
      "Epoch 18/50\n",
      "218/218 [==============================] - 2s 10ms/step - loss: 0.3548 - val_loss: 1.3932\n",
      "Epoch 19/50\n",
      "218/218 [==============================] - 2s 10ms/step - loss: 0.3535 - val_loss: 1.3867\n",
      "Epoch 20/50\n",
      "218/218 [==============================] - 2s 11ms/step - loss: 0.3523 - val_loss: 1.3818\n",
      "Epoch 21/50\n",
      "218/218 [==============================] - 2s 8ms/step - loss: 0.3511 - val_loss: 1.3776\n",
      "Epoch 22/50\n",
      "218/218 [==============================] - 2s 7ms/step - loss: 0.3500 - val_loss: 1.3730\n",
      "Epoch 23/50\n",
      "218/218 [==============================] - 2s 7ms/step - loss: 0.3489 - val_loss: 1.3706\n",
      "Epoch 24/50\n",
      "218/218 [==============================] - 1s 6ms/step - loss: 0.3479 - val_loss: 1.3677\n",
      "Epoch 25/50\n",
      "218/218 [==============================] - 1s 6ms/step - loss: 0.3470 - val_loss: 1.3653\n",
      "Epoch 26/50\n",
      "218/218 [==============================] - 1s 7ms/step - loss: 0.3460 - val_loss: 1.3629\n",
      "Epoch 27/50\n",
      "218/218 [==============================] - 2s 7ms/step - loss: 0.3451 - val_loss: 1.3596\n",
      "Epoch 28/50\n",
      "218/218 [==============================] - 1s 7ms/step - loss: 0.3443 - val_loss: 1.3579\n",
      "Epoch 29/50\n",
      "218/218 [==============================] - 1s 7ms/step - loss: 0.3435 - val_loss: 1.3549\n",
      "Epoch 30/50\n",
      "218/218 [==============================] - 2s 7ms/step - loss: 0.3427 - val_loss: 1.3532\n",
      "Epoch 31/50\n",
      "218/218 [==============================] - 1s 6ms/step - loss: 0.3419 - val_loss: 1.3524\n",
      "Epoch 32/50\n",
      "218/218 [==============================] - 1s 7ms/step - loss: 0.3411 - val_loss: 1.3509\n",
      "Epoch 33/50\n",
      "218/218 [==============================] - 2s 7ms/step - loss: 0.3404 - val_loss: 1.3496\n",
      "Epoch 34/50\n",
      "218/218 [==============================] - 1s 7ms/step - loss: 0.3397 - val_loss: 1.3493\n",
      "Epoch 35/50\n",
      "218/218 [==============================] - 2s 7ms/step - loss: 0.3390 - val_loss: 1.3482\n",
      "Epoch 36/50\n",
      "218/218 [==============================] - 1s 7ms/step - loss: 0.3383 - val_loss: 1.3469\n",
      "Epoch 37/50\n",
      "218/218 [==============================] - 2s 7ms/step - loss: 0.3376 - val_loss: 1.3460\n",
      "Epoch 38/50\n",
      "218/218 [==============================] - 1s 6ms/step - loss: 0.3369 - val_loss: 1.3455\n",
      "Epoch 39/50\n",
      "218/218 [==============================] - 1s 6ms/step - loss: 0.3363 - val_loss: 1.3443\n",
      "Epoch 40/50\n",
      "218/218 [==============================] - 1s 7ms/step - loss: 0.3356 - val_loss: 1.3442\n",
      "Epoch 41/50\n",
      "218/218 [==============================] - 1s 7ms/step - loss: 0.3350 - val_loss: 1.3433\n",
      "Epoch 42/50\n",
      "218/218 [==============================] - 1s 7ms/step - loss: 0.3344 - val_loss: 1.3429\n",
      "Epoch 43/50\n",
      "218/218 [==============================] - 1s 7ms/step - loss: 0.3338 - val_loss: 1.3429\n",
      "Epoch 44/50\n",
      "218/218 [==============================] - 2s 7ms/step - loss: 0.3332 - val_loss: 1.3423\n",
      "Epoch 45/50\n",
      "218/218 [==============================] - 1s 6ms/step - loss: 0.3326 - val_loss: 1.3429\n",
      "Epoch 46/50\n",
      "218/218 [==============================] - 1s 7ms/step - loss: 0.3320 - val_loss: 1.3427\n",
      "Epoch 47/50\n",
      "218/218 [==============================] - 2s 11ms/step - loss: 0.3314 - val_loss: 1.3425\n",
      "Epoch 48/50\n",
      "218/218 [==============================] - 2s 8ms/step - loss: 0.3308 - val_loss: 1.3427\n",
      "Epoch 49/50\n",
      "218/218 [==============================] - 1s 7ms/step - loss: 0.3303 - val_loss: 1.3414\n",
      "Epoch 50/50\n",
      "218/218 [==============================] - 1s 7ms/step - loss: 0.3297 - val_loss: 1.3419\n"
     ]
    }
   ],
   "source": [
    "# Running training\n",
    "\n",
    "early_stop = keras.callbacks.EarlyStopping(monitor='val_loss', patience=20)\n",
    "\n",
    "history = cnn_model.fit(x_train_cnn, y_train_cnn, \n",
    "                        batch_size = minibatch_size,\n",
    "                        epochs = num_epochs,\n",
    "                        validation_split=0.2, verbose=1,\n",
    "                        callbacks=[early_stop],\n",
    "                        shuffle=False)\n",
    "\n",
    "# Saving the model\n",
    "model_path = os.path.join(cwd,'saved_model')\n",
    "make_dir(model_path)\n",
    "cnn_model.save(os.path.join(model_path,'1y_cnn_model_'+zone+'_48h.h5'))"
   ]
  },
  {
   "cell_type": "code",
   "execution_count": 18,
   "id": "5486b330-af9e-4ee4-a0e3-acad1ec61148",
   "metadata": {
    "tags": []
   },
   "outputs": [
    {
     "name": "stdout",
     "output_type": "stream",
     "text": [
      "272/272 [==============================] - 1s 3ms/step\n",
      "Testing result for a model trained from scratch using only 1 year of training\n",
      "MAE: 0.8395\n",
      "Rescaled MAE: 13.0006\n",
      "\n"
     ]
    }
   ],
   "source": [
    "################# Evaluation ##################\n",
    "y_test_pred = cnn_model.predict(x_test_cnn)\n",
    "\n",
    "# Evaluation metrics\n",
    "print('Testing result for a model trained from scratch using only 1 year of training')\n",
    "print('MAE: {:.4f}'.format(np.abs(y_test_pred - y_test_cnn[:,:,0]).mean()))\n",
    "\n",
    "# Rescaling to get actual price \n",
    "y_test_pred_rescale = y_test_pred*y_std.values + y_mean.values\n",
    "y_test_cnn_rescale = y_test_cnn*y_std.values + y_mean.values\n",
    "y_test_pred_invlog = np.exp(y_test_pred_rescale) -1 + min(raw_data.loc[:,\"RTP\"])\n",
    "y_test_cnn_invlog = np.exp(y_test_cnn_rescale) -1 + min(raw_data.loc[:,\"RTP\"])\n",
    "\n",
    "# Evaluation metrics\n",
    "MAE_woTL = np.abs(y_test_pred_invlog - y_test_cnn_invlog[:,:,0]).mean()\n",
    "print('Rescaled MAE: {:.4f}'.format(MAE_woTL))\n",
    "print('')"
   ]
  },
  {
   "cell_type": "markdown",
   "id": "357a022c-2e08-45ad-b1ed-00c19a88e59a",
   "metadata": {},
   "source": [
    "# Transfer Learning"
   ]
  },
  {
   "cell_type": "code",
   "execution_count": 19,
   "id": "e340cc0c-c208-43f4-9cfc-b49ea3bbfe3a",
   "metadata": {
    "tags": []
   },
   "outputs": [],
   "source": [
    "# Import trained model on different zone\n",
    "cnn_model = load_model(os.path.join(model_path,'cnn_model_N.Y.C._48h.h5'))"
   ]
  },
  {
   "cell_type": "code",
   "execution_count": 20,
   "id": "51ecec69-fd3a-45da-a919-30c2da17d154",
   "metadata": {
    "tags": []
   },
   "outputs": [
    {
     "name": "stdout",
     "output_type": "stream",
     "text": [
      "272/272 [==============================] - 1s 2ms/step\n",
      "Testing result for a transfered model without retraining\n",
      "MAE: 0.8094\n",
      "Rescaled MAE: 12.5288\n",
      "\n"
     ]
    }
   ],
   "source": [
    "# Test on the transfered model without retraining it\n",
    "y_test_pred = cnn_model.predict(x_test_cnn)\n",
    "\n",
    "# Evaluation metrics\n",
    "print('Testing result for a transfered model without retraining')\n",
    "print('MAE: {:.4f}'.format(np.abs(y_test_pred - y_test_cnn[:,:,0]).mean()))\n",
    "\n",
    "# Rescaling to get actual price \n",
    "y_test_pred_rescale = y_test_pred*y_std.values + y_mean.values\n",
    "y_test_pred_invlog = np.exp(y_test_pred_rescale) -1 + min(raw_data.loc[:,\"RTP\"])\n",
    "\n",
    "# Evaluation metrics\n",
    "MAE_TL = np.abs(y_test_pred_invlog - y_test_cnn_invlog[:,:,0]).mean()\n",
    "print('Rescaled MAE: {:.4f}'.format(MAE_TL))\n",
    "print('')"
   ]
  },
  {
   "cell_type": "markdown",
   "id": "74fa34ba-b6de-42ba-994f-18cb86ccf30f",
   "metadata": {
    "tags": []
   },
   "source": [
    "## Retrain the transfered model on 1 year of training"
   ]
  },
  {
   "cell_type": "code",
   "execution_count": 21,
   "id": "47395965-3598-474a-95a3-29861955f45a",
   "metadata": {
    "tags": []
   },
   "outputs": [
    {
     "name": "stdout",
     "output_type": "stream",
     "text": [
      "Epoch 1/10\n",
      "218/218 [==============================] - 2s 8ms/step - loss: 0.3521 - val_loss: 1.2094\n",
      "Epoch 2/10\n",
      "218/218 [==============================] - 1s 6ms/step - loss: 0.3484 - val_loss: 1.2168\n",
      "Epoch 3/10\n",
      "218/218 [==============================] - 1s 6ms/step - loss: 0.3459 - val_loss: 1.2208\n",
      "Epoch 4/10\n",
      "218/218 [==============================] - 2s 7ms/step - loss: 0.3440 - val_loss: 1.2245\n",
      "Epoch 5/10\n",
      "218/218 [==============================] - 1s 7ms/step - loss: 0.3420 - val_loss: 1.2175\n",
      "Epoch 6/10\n",
      "218/218 [==============================] - 2s 7ms/step - loss: 0.3403 - val_loss: 1.2215\n",
      "Epoch 7/10\n",
      "218/218 [==============================] - 1s 7ms/step - loss: 0.3388 - val_loss: 1.2304\n",
      "Epoch 8/10\n",
      "218/218 [==============================] - 2s 7ms/step - loss: 0.3370 - val_loss: 1.2391\n",
      "Epoch 9/10\n",
      "218/218 [==============================] - 1s 7ms/step - loss: 0.3357 - val_loss: 1.2398\n",
      "Epoch 10/10\n",
      "218/218 [==============================] - 1s 7ms/step - loss: 0.3342 - val_loss: 1.2470\n"
     ]
    }
   ],
   "source": [
    "# Lets freeze all layer except the output layer\n",
    "cnn_model.get_layer(index=0).trainable = False\n",
    "cnn_model.get_layer(index=1).trainable = False\n",
    "cnn_model.get_layer(index=2).trainable = False\n",
    "cnn_model.get_layer(index=3).trainable = False\n",
    "cnn_model.get_layer(index=4).trainable = False\n",
    "cnn_model.get_layer(index=5).trainable = True\n",
    "\n",
    "# set hyperparameters\n",
    "n_filters  = 32  # number of filters\n",
    "n_neurons  = 64  # number of neurons in the Dense layer\n",
    "activation     = 'relu' # activation function\n",
    "kernel_size    = 3\n",
    "pool_size = 1\n",
    "learning_rate  = 0.0001\n",
    "minibatch_size = 32\n",
    "num_epochs     = 10\n",
    "    \n",
    "history = cnn_model.fit(x_train_cnn, y_train_cnn, \n",
    "                    batch_size      = minibatch_size,\n",
    "                    epochs          = num_epochs,\n",
    "                    validation_split= 0.2, \n",
    "                    verbose         = 1,\n",
    "                    callbacks       = [early_stop])"
   ]
  },
  {
   "cell_type": "code",
   "execution_count": 22,
   "id": "75c1496f-3ab8-4af0-a9f3-f97404603861",
   "metadata": {
    "tags": []
   },
   "outputs": [
    {
     "name": "stdout",
     "output_type": "stream",
     "text": [
      "272/272 [==============================] - 1s 2ms/step\n",
      "Testing result for a transfered model after retraining\n",
      "MAE: 0.7849\n",
      "Rescaled MAE: 12.2110\n",
      "\n"
     ]
    }
   ],
   "source": [
    "# Test on the transfered model after retraining it\n",
    "y_test_pred = cnn_model.predict(x_test_cnn)\n",
    "\n",
    "# Evaluation metrics\n",
    "print('Testing result for a transfered model after retraining')\n",
    "print('MAE: {:.4f}'.format(np.abs(y_test_pred - y_test_cnn[:,:,0]).mean()))\n",
    "\n",
    "# Rescaling to get actual price \n",
    "y_test_pred_rescale = y_test_pred*y_std.values + y_mean.values\n",
    "y_test_pred_invlog = np.exp(y_test_pred_rescale) -1 + min(raw_data.loc[:,\"RTP\"])\n",
    "\n",
    "# Evaluation metrics\n",
    "MAE_TL_trained = np.abs(y_test_pred_invlog - y_test_cnn_invlog[:,:,0]).mean()\n",
    "print('Rescaled MAE: {:.4f}'.format(MAE_TL_trained))\n",
    "print('')"
   ]
  },
  {
   "cell_type": "markdown",
   "id": "32a2cc7b-78f7-4bc7-b2e2-1b37069f9b81",
   "metadata": {},
   "source": [
    "## 1 year TL Summary Result"
   ]
  },
  {
   "cell_type": "code",
   "execution_count": 23,
   "id": "e01239d8-d3bb-4ec4-acb1-e5cdb253a728",
   "metadata": {
    "tags": []
   },
   "outputs": [
    {
     "name": "stdout",
     "output_type": "stream",
     "text": [
      "W/O TL MAE        : 13.0006\n",
      "W TL MAE          : 12.5288\n",
      "W TL retrained MAE: 12.2110\n",
      "\n",
      "% improvement\n",
      "W TL MAE          : 3.6284\n",
      "W TL retrained MAE: 6.0735\n",
      "\n"
     ]
    }
   ],
   "source": [
    "# Evaluation metrics\n",
    "print('W/O TL MAE        : {:.4f}'.format(MAE_woTL))\n",
    "print('W TL MAE          : {:.4f}'.format(MAE_TL))\n",
    "print('W TL retrained MAE: {:.4f}'.format(MAE_TL_trained))\n",
    "print('')\n",
    "\n",
    "print('% improvement')\n",
    "print('W TL MAE          : {:.4f}'.format((MAE_woTL-MAE_TL)/MAE_woTL*100))\n",
    "print('W TL retrained MAE: {:.4f}'.format((MAE_woTL-MAE_TL_trained)/MAE_woTL*100))\n",
    "print('')"
   ]
  },
  {
   "cell_type": "markdown",
   "id": "47c08141-42b6-4def-9a4d-25c19927ea93",
   "metadata": {},
   "source": [
    "# Transfer Learning with full training set"
   ]
  },
  {
   "cell_type": "code",
   "execution_count": 24,
   "id": "421c3597-e4e7-43ab-a0c2-34cb9597fa95",
   "metadata": {
    "tags": []
   },
   "outputs": [
    {
     "name": "stdout",
     "output_type": "stream",
     "text": [
      "(34993, 48, 3) (34993, 24, 1) (8689, 48, 3) (8689, 24, 1)\n"
     ]
    }
   ],
   "source": [
    "# prepare the full training set\n",
    "\n",
    "# Split dataset: 2017-2020 years for training and 2021 year for testing\n",
    "x_train_df = log_data.iloc[:8760*4+24,:]\n",
    "x_test_df = log_data.iloc[8760*4+24:,:]\n",
    "\n",
    "y_train_df = log_data.iloc[:8760*4+24,2:]\n",
    "y_test_df = log_data.iloc[8760*4+24:,2:]\n",
    "\n",
    "# Standardization\n",
    "x_mean, x_std = x_train_df.mean(), x_train_df.std()\n",
    "y_mean, y_std = y_train_df.mean(), y_train_df.std()\n",
    "\n",
    "x_train = ((x_train_df - x_mean)/x_std).to_numpy()\n",
    "x_test = ((x_test_df - x_mean)/x_std).to_numpy()\n",
    "\n",
    "y_train = ((y_train_df - y_mean)/y_std).to_numpy()\n",
    "y_test = ((y_test_df - y_mean)/y_std).to_numpy()\n",
    "\n",
    "# reshape data for CNN model\n",
    "n_steps_in = 48\n",
    "n_steps_out = 24\n",
    "\n",
    "x_train_cnn = np.array([x_train[i:i+n_steps_in] for i in range(0, x_train.shape[0]-n_steps_in-n_steps_out+1)])\n",
    "y_train_cnn = np.array([y_train[i+n_steps_in:i+n_steps_in+n_steps_out] for i in range(0, y_train.shape[0]-n_steps_in-n_steps_out+1)])\n",
    "\n",
    "x_test_cnn = np.array([x_test[i:i+n_steps_in] for i in range(0, x_test.shape[0]-n_steps_in-n_steps_out+1)])\n",
    "y_test_cnn = np.array([y_test[i+n_steps_in:i+n_steps_in+n_steps_out] for i in range(0, y_test.shape[0]-n_steps_in-n_steps_out+1)])\n",
    "\n",
    "print(x_train_cnn.shape,y_train_cnn.shape,x_test_cnn.shape,y_test_cnn.shape)\n"
   ]
  },
  {
   "cell_type": "code",
   "execution_count": 25,
   "id": "56543325-db74-4fc5-bfa0-5dad30da148a",
   "metadata": {
    "tags": []
   },
   "outputs": [],
   "source": [
    "# Import the fully trained model for this zone\n",
    "cnn_model = load_model(os.path.join(model_path,'cnn_model_'+zone+'_48h.h5'))"
   ]
  },
  {
   "cell_type": "code",
   "execution_count": 26,
   "id": "2a191b90-2b0a-4dad-a329-9dc393521391",
   "metadata": {
    "tags": []
   },
   "outputs": [
    {
     "name": "stdout",
     "output_type": "stream",
     "text": [
      "272/272 [==============================] - 1s 2ms/step\n",
      "CAPITL\n",
      "Testing result for a model trained from scratch using full training set\n",
      "MAE: 0.4724\n",
      "Rescaled MAE: 11.9008\n",
      "\n"
     ]
    }
   ],
   "source": [
    "################# Evaluation ##################\n",
    "y_test_pred = cnn_model.predict(x_test_cnn)\n",
    "\n",
    "# Evaluation metrics\n",
    "print(zone)\n",
    "print('Testing result for a model trained from scratch using full training set')\n",
    "print('MAE: {:.4f}'.format(np.abs(y_test_pred - y_test_cnn[:,:,0]).mean()))\n",
    "\n",
    "# Rescaling to get actual price \n",
    "y_test_pred_rescale = y_test_pred*y_std.values + y_mean.values\n",
    "y_test_cnn_rescale = y_test_cnn*y_std.values + y_mean.values\n",
    "y_test_pred_invlog = np.exp(y_test_pred_rescale) -1 + min(raw_data.loc[:,\"RTP\"])\n",
    "y_test_cnn_invlog = np.exp(y_test_cnn_rescale) -1 + min(raw_data.loc[:,\"RTP\"])\n",
    "\n",
    "# Evaluation metrics\n",
    "MAE_woTL_full = np.abs(y_test_pred_invlog - y_test_cnn_invlog[:,:,0]).mean()\n",
    "print('Rescaled MAE: {:.4f}'.format(MAE_woTL_full))\n",
    "print('')"
   ]
  },
  {
   "cell_type": "code",
   "execution_count": 27,
   "id": "674803f0-afaf-4c45-9062-874ca68cdb4b",
   "metadata": {
    "tags": []
   },
   "outputs": [
    {
     "name": "stdout",
     "output_type": "stream",
     "text": [
      "272/272 [==============================] - 1s 2ms/step\n",
      "CAPITL\n",
      "Testing result for a transfered model without retraining\n",
      "MAE: 0.4836\n",
      "Rescaled MAE: 12.1424\n",
      "\n"
     ]
    }
   ],
   "source": [
    "# Import trained model on different zone\n",
    "cnn_model = load_model(os.path.join(model_path,'cnn_model_N.Y.C._48h.h5'))\n",
    "\n",
    "# Test on the transfered model without retraining it\n",
    "y_test_pred = cnn_model.predict(x_test_cnn)\n",
    "\n",
    "# Evaluation metrics\n",
    "print(zone)\n",
    "print('Testing result for a transfered model without retraining')\n",
    "print('MAE: {:.4f}'.format(np.abs(y_test_pred - y_test_cnn[:,:,0]).mean()))\n",
    "\n",
    "# Rescaling to get actual price \n",
    "y_test_pred_rescale = y_test_pred*y_std.values + y_mean.values\n",
    "y_test_pred_invlog = np.exp(y_test_pred_rescale) -1 + min(raw_data.loc[:,\"RTP\"])\n",
    "\n",
    "# Evaluation metrics\n",
    "MAE_TL_full = np.abs(y_test_pred_invlog - y_test_cnn_invlog[:,:,0]).mean()\n",
    "print('Rescaled MAE: {:.4f}'.format(MAE_TL_full))\n",
    "print('')"
   ]
  },
  {
   "cell_type": "markdown",
   "id": "dca66a32-3811-4aa8-917f-c24041584c67",
   "metadata": {
    "tags": []
   },
   "source": [
    "## Retrain the transfered model on full training set"
   ]
  },
  {
   "cell_type": "code",
   "execution_count": 28,
   "id": "b2943ac6-8d04-4eec-9217-b49cdbcc786b",
   "metadata": {
    "tags": []
   },
   "outputs": [
    {
     "name": "stdout",
     "output_type": "stream",
     "text": [
      "Epoch 1/10\n",
      "875/875 [==============================] - 7s 7ms/step - loss: 0.5499 - val_loss: 0.2002\n",
      "Epoch 2/10\n",
      "875/875 [==============================] - 9s 10ms/step - loss: 0.5421 - val_loss: 0.2006\n",
      "Epoch 3/10\n",
      "875/875 [==============================] - 9s 10ms/step - loss: 0.5387 - val_loss: 0.2006\n",
      "Epoch 4/10\n",
      "875/875 [==============================] - 7s 8ms/step - loss: 0.5357 - val_loss: 0.2001\n",
      "Epoch 5/10\n",
      "875/875 [==============================] - 6s 7ms/step - loss: 0.5328 - val_loss: 0.2021\n",
      "Epoch 6/10\n",
      "875/875 [==============================] - 6s 7ms/step - loss: 0.5304 - val_loss: 0.2007\n",
      "Epoch 7/10\n",
      "875/875 [==============================] - 6s 7ms/step - loss: 0.5285 - val_loss: 0.2020\n",
      "Epoch 8/10\n",
      "875/875 [==============================] - 6s 7ms/step - loss: 0.5260 - val_loss: 0.2012\n",
      "Epoch 9/10\n",
      "875/875 [==============================] - 6s 7ms/step - loss: 0.5243 - val_loss: 0.2023\n",
      "Epoch 10/10\n",
      "875/875 [==============================] - 6s 7ms/step - loss: 0.5228 - val_loss: 0.2046\n"
     ]
    }
   ],
   "source": [
    "# Lets freeze all layer except the output layer\n",
    "cnn_model.get_layer(index=0).trainable = False\n",
    "cnn_model.get_layer(index=1).trainable = False\n",
    "cnn_model.get_layer(index=2).trainable = False\n",
    "cnn_model.get_layer(index=3).trainable = False\n",
    "cnn_model.get_layer(index=4).trainable = False\n",
    "cnn_model.get_layer(index=5).trainable = True\n",
    "\n",
    "# set hyperparameters\n",
    "n_filters  = 32  # number of filters\n",
    "n_neurons  = 64  # number of neurons in the Dense layer\n",
    "activation     = 'relu' # activation function\n",
    "kernel_size    = 3\n",
    "pool_size = 1\n",
    "learning_rate  = 0.0001\n",
    "minibatch_size = 32\n",
    "num_epochs     = 10\n",
    "    \n",
    "history = cnn_model.fit(x_train_cnn, y_train_cnn, \n",
    "                    batch_size      = minibatch_size,\n",
    "                    epochs          = num_epochs,\n",
    "                    validation_split= 0.2, \n",
    "                    verbose         = 1,\n",
    "                    callbacks       = [early_stop])"
   ]
  },
  {
   "cell_type": "code",
   "execution_count": 29,
   "id": "6cc2aa85-03d6-4bea-8e4b-dea8beeee504",
   "metadata": {
    "tags": []
   },
   "outputs": [
    {
     "name": "stdout",
     "output_type": "stream",
     "text": [
      "272/272 [==============================] - 1s 3ms/step\n",
      "CAPITL\n",
      "Testing result for a transfered model after retraining\n",
      "MAE: 0.5021\n",
      "Rescaled MAE: 12.6963\n",
      "\n"
     ]
    }
   ],
   "source": [
    "# Test on the transfered model after retraining it\n",
    "y_test_pred = cnn_model.predict(x_test_cnn)\n",
    "\n",
    "# Evaluation metrics\n",
    "print(zone)\n",
    "print('Testing result for a transfered model after retraining')\n",
    "print('MAE: {:.4f}'.format(np.abs(y_test_pred - y_test_cnn[:,:,0]).mean()))\n",
    "\n",
    "# Rescaling to get actual price \n",
    "y_test_pred_rescale = y_test_pred*y_std.values + y_mean.values\n",
    "y_test_pred_invlog = np.exp(y_test_pred_rescale) -1 + min(raw_data.loc[:,\"RTP\"])\n",
    "\n",
    "# Evaluation metrics\n",
    "MAE_TL_trained_full = np.abs(y_test_pred_invlog - y_test_cnn_invlog[:,:,0]).mean()\n",
    "print('Rescaled MAE: {:.4f}'.format(MAE_TL_trained_full))\n",
    "print('')"
   ]
  },
  {
   "cell_type": "markdown",
   "id": "01fcb420-e9a8-4659-9f78-4f1ece924ccb",
   "metadata": {},
   "source": [
    "## 1 year TL Summary Result"
   ]
  },
  {
   "cell_type": "code",
   "execution_count": 30,
   "id": "0c598b89-0932-4555-89fa-76eb09093539",
   "metadata": {
    "tags": []
   },
   "outputs": [
    {
     "name": "stdout",
     "output_type": "stream",
     "text": [
      "Full training set (4 years)\n",
      "W/O TL MAE        : 11.9008\n",
      "W TL MAE          : 12.1424\n",
      "W TL retrained MAE: 12.6963\n",
      "\n",
      "% improvement\n",
      "W TL MAE          : -2.0301\n",
      "W TL retrained MAE: -6.6842\n",
      "\n"
     ]
    }
   ],
   "source": [
    "# Evaluation metrics\n",
    "print('Full training set (4 years)')\n",
    "print('W/O TL MAE        : {:.4f}'.format(MAE_woTL_full))\n",
    "print('W TL MAE          : {:.4f}'.format(MAE_TL_full))\n",
    "print('W TL retrained MAE: {:.4f}'.format(MAE_TL_trained_full))\n",
    "print('')\n",
    "\n",
    "print('% improvement')\n",
    "print('W TL MAE          : {:.4f}'.format((MAE_woTL_full-MAE_TL_full)/MAE_woTL_full*100))\n",
    "print('W TL retrained MAE: {:.4f}'.format((MAE_woTL_full-MAE_TL_trained_full)/MAE_woTL_full*100))\n",
    "print('')"
   ]
  },
  {
   "cell_type": "markdown",
   "id": "9812fbb4-7c8a-46b6-bdb5-bb17f47a0245",
   "metadata": {},
   "source": [
    "# Summary Result"
   ]
  },
  {
   "cell_type": "code",
   "execution_count": 31,
   "id": "3f719839-8af4-44c8-a3a9-b5219af159b8",
   "metadata": {
    "tags": []
   },
   "outputs": [
    {
     "name": "stdout",
     "output_type": "stream",
     "text": [
      "1 Year of Training\n",
      "% improvement\n",
      "W TL MAE          : 3.6284\n",
      "W TL retrained MAE: 6.0735\n",
      "\n",
      "4 Years of Training\n",
      "% improvement\n",
      "W TL MAE          : -2.0301\n",
      "W TL retrained MAE: -6.6842\n",
      "\n"
     ]
    }
   ],
   "source": [
    "print('1 Year of Training')\n",
    "print('% improvement')\n",
    "print('W TL MAE          : {:.4f}'.format((MAE_woTL-MAE_TL)/MAE_woTL*100))\n",
    "print('W TL retrained MAE: {:.4f}'.format((MAE_woTL-MAE_TL_trained)/MAE_woTL*100))\n",
    "print('')\n",
    "\n",
    "print('4 Years of Training')\n",
    "print('% improvement')\n",
    "print('W TL MAE          : {:.4f}'.format((MAE_woTL_full-MAE_TL_full)/MAE_woTL_full*100))\n",
    "print('W TL retrained MAE: {:.4f}'.format((MAE_woTL_full-MAE_TL_trained_full)/MAE_woTL_full*100))\n",
    "print('')"
   ]
  },
  {
   "cell_type": "markdown",
   "id": "3456782b-c76b-4a47-a605-559d060fb213",
   "metadata": {},
   "source": [
    "Takeaway: if we have limited training data, transfer learning can be helpful, it improve predictions with much less number of epochs"
   ]
  }
 ],
 "metadata": {
  "kernelspec": {
   "display_name": "Python 3 (ipykernel)",
   "language": "python",
   "name": "python3"
  },
  "language_info": {
   "codemirror_mode": {
    "name": "ipython",
    "version": 3
   },
   "file_extension": ".py",
   "mimetype": "text/x-python",
   "name": "python",
   "nbconvert_exporter": "python",
   "pygments_lexer": "ipython3",
   "version": "3.10.12"
  }
 },
 "nbformat": 4,
 "nbformat_minor": 5
}
